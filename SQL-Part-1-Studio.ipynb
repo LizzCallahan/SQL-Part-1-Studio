{
    "metadata": {
        "kernelspec": {
            "name": "SQL",
            "display_name": "SQL",
            "language": "sql"
        },
        "language_info": {
            "name": "sql",
            "version": ""
        },
        "extensions": {
            "azuredatastudio": {
                "version": 1,
                "views": []
            }
        }
    },
    "nbformat_minor": 2,
    "nbformat": 4,
    "cells": [
        {
            "cell_type": "markdown",
            "source": [
                "# SQL Part 1 Studio\n",
                "\n",
                "### Let's practice your SQL quering skills!  For each question, work along in the notebook adding your query and answering the questions. \n",
                "\n",
                "### **DataSet**\n",
                "\n",
                "### <span style=\"font-size: 14px; font-family: -apple-system, BlinkMacSystemFont, sans-serif;\">We will be using the Goodbooks-10k dataset from the exercises in the prep work.&nbsp; Feel free to reference your notebook.</span>\n",
                "\n",
                "- The dataset can be found here: [goodbooks-10k](https://www.kaggle.com/zygmunt/goodbooks-10k)\n",
                "- You can access the **BooksDB** in the Launchcode server.\n",
                "\n",
                "### **Business Issue**\n",
                "\n",
                "You work for a small independant book store and you want to increase sales by running various promotions.  Start by becoming more familar with the BooksDB."
            ],
            "metadata": {
                "azdata_cell_guid": "b9034d8a-b631-48bf-a895-1012a6ffa784"
            }
        },
        {
            "cell_type": "markdown",
            "source": [
                "## Part 1. BooksDB Questions\n",
                "\n",
                "<span style=\"color: rgba(0, 0, 0, 0.87); font-family: -apple-system, system-ui, &quot;Segoe UI&quot;, Helvetica, Arial, sans-serif, &quot;Apple Color Emoji&quot;, &quot;Segoe UI Emoji&quot;, &quot;Segoe UI Symbol&quot;; background-color: rgb(255, 255, 255);\">Question 1:&nbsp; Write a query of the books table, returning the TOP 100 results and&nbsp; includes, book_id, authors, title, average_rating.&nbsp; Use an alias for at least one column and in descending order of rating.&nbsp; What is the number one book?</span>"
            ],
            "metadata": {
                "azdata_cell_guid": "6e55eb1c-4a14-4076-90d2-95ed17a6309f",
                "tags": [
                    "hide_input"
                ]
            },
            "attachments": {}
        },
        {
            "cell_type": "code",
            "source": [
                "-- return top 100 results\n",
                "SELECT\n",
                "    TOP 100 book_id, authors, title, average_rating AS 'avg_rating'\n",
                "FROM\n",
                "    BooksDB.dbo.books\n",
                "ORDER BY\n",
                "    average_rating DESC"
            ],
            "metadata": {
                "azdata_cell_guid": "470b0ca4-9a32-4b46-a42e-bbb645101769",
                "tags": [],
                "language": "sql"
            },
            "outputs": [
                {
                    "output_type": "display_data",
                    "data": {
                        "text/html": "(100 rows affected)"
                    },
                    "metadata": {}
                },
                {
                    "output_type": "display_data",
                    "data": {
                        "text/html": "Total execution time: 00:00:00.191"
                    },
                    "metadata": {}
                },
                {
                    "output_type": "execute_result",
                    "metadata": {},
                    "execution_count": 1,
                    "data": {
                        "application/vnd.dataresource+json": {
                            "schema": {
                                "fields": [
                                    {
                                        "name": "book_id"
                                    },
                                    {
                                        "name": "authors"
                                    },
                                    {
                                        "name": "title"
                                    },
                                    {
                                        "name": "avg_rating"
                                    }
                                ]
                            },
                            "data": [
                                {
                                    "0": "24812",
                                    "1": "Bill Watterson",
                                    "2": "The Complete Calvin and Hobbes",
                                    "3": "4.82"
                                },
                                {
                                    "0": "17332218",
                                    "1": "Brandon Sanderson",
                                    "2": "Words of Radiance (The Stormlight Archive, #2)",
                                    "3": "4.77"
                                },
                                {
                                    "0": "8",
                                    "1": "J.K. Rowling, Mary GrandPré",
                                    "2": "Harry Potter Boxed Set, Books 1-5 (Harry Potter, #1-5)",
                                    "3": "4.77"
                                },
                                {
                                    "0": "5031805",
                                    "1": "Anonymous, Lane T. Dennis, Wayne A. Grudem",
                                    "2": "ESV Study Bible",
                                    "3": "4.76"
                                },
                                {
                                    "0": "95602",
                                    "1": "Francine Rivers",
                                    "2": "Mark of the Lion Trilogy",
                                    "3": "4.76"
                                },
                                {
                                    "0": "24814",
                                    "1": "Bill Watterson",
                                    "2": "It's a Magical World: A Calvin and Hobbes Collection",
                                    "3": "4.75"
                                },
                                {
                                    "0": "862041",
                                    "1": "J.K. Rowling",
                                    "2": "Harry Potter Boxset (Harry Potter, #1-7)",
                                    "3": "4.74"
                                },
                                {
                                    "0": "70489",
                                    "1": "Bill Watterson",
                                    "2": "There's Treasure Everywhere: A Calvin and Hobbes Collection",
                                    "3": "4.74"
                                },
                                {
                                    "0": "10",
                                    "1": "J.K. Rowling",
                                    "2": "Harry Potter Collection (Harry Potter, #1-6)",
                                    "3": "4.73"
                                },
                                {
                                    "0": "59715",
                                    "1": "Bill Watterson",
                                    "2": "The Authoritative Calvin and Hobbes: A Calvin and Hobbes Treasury",
                                    "3": "4.73"
                                },
                                {
                                    "0": "24815",
                                    "1": "Bill Watterson",
                                    "2": "The Indispensable Calvin and Hobbes",
                                    "3": "4.73"
                                },
                                {
                                    "0": "17927395",
                                    "1": "Sarah J. Maas",
                                    "2": "A Court of Mist and Fury (A Court of Thorns and Roses, #2)",
                                    "3": "4.72"
                                },
                                {
                                    "0": "70487",
                                    "1": "Bill Watterson",
                                    "2": "Attack of the Deranged Mutant Killer Monster Snow Goons",
                                    "3": "4.72"
                                },
                                {
                                    "0": "24816",
                                    "1": "Bill Watterson",
                                    "2": "Homicidal Psycho Jungle Cat: A Calvin and Hobbes Collection",
                                    "3": "4.71"
                                },
                                {
                                    "0": "121792",
                                    "1": "Bill Watterson",
                                    "2": "The Revenge of the Baby-Sat",
                                    "3": "4.71"
                                },
                                {
                                    "0": "2350129",
                                    "1": "The Church of Jesus Christ of Latter-day Saints",
                                    "2": "Preach My Gospel: A Guide To Missionary Service",
                                    "3": "4.71"
                                },
                                {
                                    "0": "24818",
                                    "1": "Bill Watterson",
                                    "2": "The Days Are Just Packed: A Calvin and Hobbes Collection",
                                    "3": "4.68"
                                },
                                {
                                    "0": "265205",
                                    "1": "Anonymous, Ronald A. Beers, Ronald A. Beers",
                                    "2": "Life Application Study Bible: NIV",
                                    "3": "4.67"
                                },
                                {
                                    "0": "9329354",
                                    "1": "Brandon Sanderson",
                                    "2": "The Way of Kings, Part 1 (The Stormlight Archive #1.1)",
                                    "3": "4.67"
                                },
                                {
                                    "0": "99298",
                                    "1": "J.K. Rowling, Mary GrandPré",
                                    "2": "The Harry Potter Collection 1-4 (Harry Potter, #1-4)",
                                    "3": "4.66"
                                },
                                {
                                    "0": "5883777",
                                    "1": "Anonymous",
                                    "2": "The Holy Bible: English Standard Version",
                                    "3": "4.66"
                                },
                                {
                                    "0": "24494",
                                    "1": "Bill Watterson",
                                    "2": "The Calvin and Hobbes Lazy Sunday Book",
                                    "3": "4.66"
                                },
                                {
                                    "0": "43070",
                                    "1": "Bill Watterson",
                                    "2": "The Essential Calvin and Hobbes: A Calvin and Hobbes Treasury",
                                    "3": "4.65"
                                },
                                {
                                    "0": "18337259",
                                    "1": "Daniel Abraham, George R.R. Martin, Tommy Patterson",
                                    "2": "A Game of Thrones: Comic Book, Issue 1",
                                    "3": "4.65"
                                },
                                {
                                    "0": "23753",
                                    "1": "Neil Gaiman, Mike Dringenberg, Chris Bachalo, Michael Zulli, Kelly Jones, Charles Vess, Colleen Doran, Malcolm Jones III, Steve Parkhouse, Daniel Vozzo, Lee Loughridge, Steve Oliff, Todd Klein, Dave McKean, Sam Kieth",
                                    "2": "The Absolute Sandman, Volume One",
                                    "3": "4.65"
                                },
                                {
                                    "0": "7235533",
                                    "1": "Brandon Sanderson",
                                    "2": "The Way of Kings (The Stormlight Archive, #1)",
                                    "3": "4.64"
                                },
                                {
                                    "0": "24813",
                                    "1": "Bill Watterson",
                                    "2": "The Calvin and Hobbes Tenth Anniversary Book",
                                    "3": "4.63"
                                },
                                {
                                    "0": "9814682",
                                    "1": "George R.R. Martin",
                                    "2": "A Song of Ice and Fire (A Song of Ice and Fire, #1-4)",
                                    "3": "4.63"
                                },
                                {
                                    "0": "12177850",
                                    "1": "George R.R. Martin",
                                    "2": "A Song of Ice and Fire (A Song of Ice and Fire, #1-5)",
                                    "3": "4.63"
                                },
                                {
                                    "0": "481749",
                                    "1": "James E. Talmage",
                                    "2": "Jesus the Christ",
                                    "3": "4.63"
                                },
                                {
                                    "0": "46292",
                                    "1": "Hafez",
                                    "2": "The Divan",
                                    "3": "4.63"
                                },
                                {
                                    "0": "6801614",
                                    "1": "Eiichirō Oda",
                                    "2": "One Piece, Volume 38: Rocketman!! (One Piece, #38)",
                                    "3": "4.63"
                                },
                                {
                                    "0": "22299763",
                                    "1": "Leigh Bardugo",
                                    "2": "Crooked Kingdom (Six of Crows, #2)",
                                    "3": "4.62"
                                },
                                {
                                    "0": "32075671",
                                    "1": "Angie Thomas",
                                    "2": "The Hate U Give",
                                    "3": "4.62"
                                },
                                {
                                    "0": "136251",
                                    "1": "J.K. Rowling, Mary GrandPré",
                                    "2": "Harry Potter and the Deathly Hallows (Harry Potter, #7)",
                                    "3": "4.61"
                                },
                                {
                                    "0": "77727",
                                    "1": "Bill Watterson, G.B. Trudeau",
                                    "2": "Calvin and Hobbes",
                                    "3": "4.61"
                                },
                                {
                                    "0": "280111",
                                    "1": "Anonymous",
                                    "2": "Holy Bible: New International Version",
                                    "3": "4.61"
                                },
                                {
                                    "0": "2223324",
                                    "1": "John   Williams",
                                    "2": "Harry Potter and the Chamber of Secrets: Sheet Music for Flute with C.D",
                                    "3": "4.61"
                                },
                                {
                                    "0": "6339989",
                                    "1": "Richelle Mead",
                                    "2": "Vampire Academy Collection (Vampire Academy, #1-3)",
                                    "3": "4.61"
                                },
                                {
                                    "0": "596259",
                                    "1": "Gordon B. Hinckley",
                                    "2": "Standing for Something: 10 Neglected Virtues That Will Heal Our Hearts and Homes",
                                    "3": "4.61"
                                },
                                {
                                    "0": "47697",
                                    "1": "Alisa Kwitney, Neil Gaiman",
                                    "2": "The Sandman: King of Dreams",
                                    "3": "4.61"
                                },
                                {
                                    "0": "18006496",
                                    "1": "Sarah J. Maas",
                                    "2": "Queen of Shadows (Throne of Glass, #4)",
                                    "3": "4.6"
                                },
                                {
                                    "0": "95617",
                                    "1": "Francine Rivers, Richard Ferrone",
                                    "2": "A Voice in the Wind (Mark of the Lion, #1)",
                                    "3": "4.6"
                                },
                                {
                                    "0": "46601",
                                    "1": "Francine Rivers",
                                    "2": "An Echo in the Darkness (Mark of the Lion, #2)",
                                    "3": "4.6"
                                },
                                {
                                    "0": "7025086",
                                    "1": "Christopher Yost, Pasqual Ferry, Orson Scott Card",
                                    "2": "Ender's Game, Volume 2: Command School",
                                    "3": "4.6"
                                },
                                {
                                    "0": "18335634",
                                    "1": "Cassandra Clare",
                                    "2": "Clockwork Princess (The Infernal Devices, #3)",
                                    "3": "4.59"
                                },
                                {
                                    "0": "30",
                                    "1": "J.R.R. Tolkien",
                                    "2": "J.R.R. Tolkien 4-Book Boxed Set: The Hobbit and The Lord of the Rings",
                                    "3": "4.59"
                                },
                                {
                                    "0": "2299110",
                                    "1": "Sherrilyn Kenyon",
                                    "2": "Acheron (Dark-Hunter #14)",
                                    "3": "4.59"
                                },
                                {
                                    "0": "119",
                                    "1": "Gary Russell",
                                    "2": "The Lord of the Rings: The Art of The Fellowship of the Ring",
                                    "3": "4.59"
                                },
                                {
                                    "0": "71252",
                                    "1": "Neil Gaiman, Marc Hempel, Richard Case, D'Israeli, Teddy Kristiansen, Glyn Dillon, Charles Vess, Dean Ormston, Kevin Nowlan, Todd Klein, Frank McConnell",
                                    "2": "The Kindly Ones (The Sandman #9)",
                                    "3": "4.59"
                                },
                                {
                                    "0": "349254",
                                    "1": "Jude Fisher",
                                    "2": "The Lord of the Rings: The Return of the King: Visual Companion",
                                    "3": "4.59"
                                },
                                {
                                    "0": "9832370",
                                    "1": "BookRags",
                                    "2": "BookRags Summary:  A Storm of Swords",
                                    "3": "4.59"
                                },
                                {
                                    "0": "11106458",
                                    "1": "Cassandra Clare",
                                    "2": "The Mortal Instruments (The Mortal Instruments #1-4)",
                                    "3": "4.59"
                                },
                                {
                                    "0": "14367051",
                                    "1": "Cassandra Clare",
                                    "2": "City of Bones / City of Ashes / City of Glass / City of Fallen Angels / City of Lost Souls (The Mortal Instruments, #1-5)",
                                    "3": "4.59"
                                },
                                {
                                    "0": "28260587",
                                    "1": "Sarah J. Maas",
                                    "2": "Empire of Storms (Throne of Glass, #5)",
                                    "3": "4.58"
                                },
                                {
                                    "0": "3165162",
                                    "1": "Rick Riordan",
                                    "2": "Percy Jackson and the Olympians (Percy Jackson and the Olympians, #1-3)",
                                    "3": "4.58"
                                },
                                {
                                    "0": "20342617",
                                    "1": "Bryan Stevenson",
                                    "2": "Just Mercy: A Story of Justice and Redemption",
                                    "3": "4.58"
                                },
                                {
                                    "0": "17961",
                                    "1": "Jorge Luis Borges, Andrew Hurley",
                                    "2": "Collected Fictions",
                                    "3": "4.58"
                                },
                                {
                                    "0": "4808763",
                                    "1": "Isaac Asimov, Bob E. Flick, Jim Gallant",
                                    "2": "The Last Question",
                                    "3": "4.58"
                                },
                                {
                                    "0": "15767586",
                                    "1": "Sherrilyn Kenyon",
                                    "2": "Styxx (Dark-Hunter, #22)",
                                    "3": "4.58"
                                },
                                {
                                    "0": "892295",
                                    "1": "Arthur Conan Doyle, William S. Baring-Gould",
                                    "2": "The Annotated Sherlock Holmes: The Four Novels and the Fifty-Six Short Stories Complete (2 Volume Set)",
                                    "3": "4.58"
                                },
                                {
                                    "0": "1215032",
                                    "1": "Patrick Rothfuss",
                                    "2": "The Wise Man's Fear (The Kingkiller Chronicle, #2)",
                                    "3": "4.57"
                                },
                                {
                                    "0": "6485421",
                                    "1": "Cassandra Clare",
                                    "2": "The Mortal Instruments Boxed Set: City of Bones; City of Ashes; City of Glass (The Mortal Instruments, #1-3)",
                                    "3": "4.57"
                                },
                                {
                                    "0": "17131869",
                                    "1": "Brian K. Vaughan, Fiona Staples",
                                    "2": "Saga, Vol. 2 (Saga, #2)",
                                    "3": "4.57"
                                },
                                {
                                    "0": "8718952",
                                    "1": "Richelle Mead",
                                    "2": "Vampire Academy Box Set (Vampire Academy, #1-4)",
                                    "3": "4.57"
                                },
                                {
                                    "0": "4634266",
                                    "1": "Masashi Kishimoto",
                                    "2": "NARUTO -ナルト- 巻ノ四十三",
                                    "3": "4.57"
                                },
                                {
                                    "0": "6443349",
                                    "1": "Rick Riordan, Tk",
                                    "2": "Percy Jackson and the Olympians Boxed Set (Percy Jackson and the Olympians, #1-5)",
                                    "3": "4.57"
                                },
                                {
                                    "0": "545425",
                                    "1": "Safiy al-Rahman al-Mubarakfuri",
                                    "2": "الرحيق المختوم",
                                    "3": "4.57"
                                },
                                {
                                    "0": "17333174",
                                    "1": "Ilona Andrews",
                                    "2": "Magic Binds (Kate Daniels, #9)",
                                    "3": "4.57"
                                },
                                {
                                    "0": "147915",
                                    "1": "George R.R. Martin",
                                    "2": "A Storm of Swords: Blood and Gold (A Song of Ice and Fire, #3: Part 2 of 2)",
                                    "3": "4.56"
                                },
                                {
                                    "0": "19358975",
                                    "1": "Brian K. Vaughan, Fiona Staples",
                                    "2": "Saga, Vol. 3 (Saga, #3)",
                                    "3": "4.56"
                                },
                                {
                                    "0": "10785687",
                                    "1": "Bob McCabe",
                                    "2": "Harry Potter Page to Screen: The Complete Filmmaking Journey",
                                    "3": "4.56"
                                },
                                {
                                    "0": "17880714",
                                    "1": "K. Bromberg",
                                    "2": "Crashed (Driven, #3)",
                                    "3": "4.56"
                                },
                                {
                                    "0": "1317181",
                                    "1": "J.K. Rowling",
                                    "2": "Harry Potter and the Order of the Phoenix (Harry Potter, #5, Part 1)",
                                    "3": "4.56"
                                },
                                {
                                    "0": "15743078",
                                    "1": "Veronica Roth",
                                    "2": "The Divergent Series 2-Book Collection (Divergent, #1-2)",
                                    "3": "4.56"
                                },
                                {
                                    "0": "29236299",
                                    "1": "Amie Kaufman, Jay Kristoff, Marie Lu",
                                    "2": "Gemina (The Illuminae Files, #2)",
                                    "3": "4.56"
                                },
                                {
                                    "0": "186074",
                                    "1": "Patrick Rothfuss",
                                    "2": "The Name of the Wind (The Kingkiller Chronicle, #1)",
                                    "3": "4.55"
                                },
                                {
                                    "0": "19486421",
                                    "1": "Jim Butcher",
                                    "2": "Skin Game (The Dresden Files, #15)",
                                    "3": "4.55"
                                },
                                {
                                    "0": "6604209",
                                    "1": "Brandon Sanderson",
                                    "2": "Mistborn Trilogy Boxed Set (Mistborn, #1-3)",
                                    "3": "4.55"
                                },
                                {
                                    "0": "25105",
                                    "1": "Neil Gaiman, Jill Thompson, Vince Locke, Peter Straub",
                                    "2": "Brief Lives (The Sandman #7)",
                                    "3": "4.55"
                                },
                                {
                                    "0": "8346300",
                                    "1": "Andrew Williamson, Andrew Williamson",
                                    "2": "Harry Potter: A Pop-Up Book: Based on the Film Phenomenon",
                                    "3": "4.55"
                                },
                                {
                                    "0": "14905",
                                    "1": "Jane Austen",
                                    "2": "The Complete Novels",
                                    "3": "4.55"
                                },
                                {
                                    "0": "13184992",
                                    "1": "Kristen Ashley",
                                    "2": "Rock Chick Regret (Rock Chick, #7)",
                                    "3": "4.55"
                                },
                                {
                                    "0": "71823",
                                    "1": "Stephen King",
                                    "2": "The Green Mile, Part 6: Coffey on the Mile",
                                    "3": "4.55"
                                },
                                {
                                    "0": "1",
                                    "1": "J.K. Rowling, Mary GrandPré",
                                    "2": "Harry Potter and the Half-Blood Prince (Harry Potter, #6)",
                                    "3": "4.54"
                                },
                                {
                                    "0": "62291",
                                    "1": "George R.R. Martin",
                                    "2": "A Storm of Swords (A Song of Ice and Fire, #3)",
                                    "3": "4.54"
                                },
                                {
                                    "0": "21853621",
                                    "1": "Kristin Hannah",
                                    "2": "The Nightingale",
                                    "3": "4.54"
                                },
                                {
                                    "0": "12127810",
                                    "1": "Rick Riordan",
                                    "2": "The House of Hades (The Heroes of Olympus, #4)",
                                    "3": "4.54"
                                },
                                {
                                    "0": "6585201",
                                    "1": "Jim Butcher",
                                    "2": "Changes (The Dresden Files, #12)",
                                    "3": "4.54"
                                },
                                {
                                    "0": "381421",
                                    "1": "Sarah  Young",
                                    "2": "Jesus Calling: Enjoying Peace in His Presence",
                                    "3": "4.54"
                                },
                                {
                                    "0": "25101",
                                    "1": "Neil Gaiman, Matt Wagner, George Pratt, Dick Giordano, Kelley Jones, P. Craig Russell, Mike Dringenberg, Malcolm Jones III, Todd Klein, Harlan Ellison",
                                    "2": "Season of Mists (The Sandman #4)",
                                    "3": "4.54"
                                },
                                {
                                    "0": "89959",
                                    "1": "Founding Fathers",
                                    "2": "The Constitution of the United States of America",
                                    "3": "4.54"
                                },
                                {
                                    "0": "23766634",
                                    "1": "Sarah J. Maas",
                                    "2": "A Court of Wings and Ruin (A Court of Thorns and Roses, #3)",
                                    "3": "4.54"
                                },
                                {
                                    "0": "20706320",
                                    "1": "Chris Colfer, Brandon Dorman",
                                    "2": "A Grimm Warning (The Land of Stories, #3)",
                                    "3": "4.54"
                                },
                                {
                                    "0": "8163161",
                                    "1": "Bisco Hatori",
                                    "2": "Ouran High School Host Club, Vol. 15 (Ouran High School Host Club, #15)",
                                    "3": "4.54"
                                },
                                {
                                    "0": "5",
                                    "1": "J.K. Rowling, Mary GrandPré, Rufus Beck",
                                    "2": "Harry Potter and the Prisoner of Azkaban (Harry Potter, #3)",
                                    "3": "4.53"
                                },
                                {
                                    "0": "6",
                                    "1": "J.K. Rowling, Mary GrandPré",
                                    "2": "Harry Potter and the Goblet of Fire (Harry Potter, #4)",
                                    "3": "4.53"
                                },
                                {
                                    "0": "20613470",
                                    "1": "Sarah J. Maas",
                                    "2": "Heir of Fire (Throne of Glass, #3)",
                                    "3": "4.53"
                                },
                                {
                                    "0": "15195",
                                    "1": "Art Spiegelman",
                                    "2": "The Complete Maus (Maus, #1-2)",
                                    "3": "4.53"
                                },
                                {
                                    "0": "25104",
                                    "1": "Neil Gaiman, Michael Zulli, Jon J. Muth, Charles Vess, Mikal Gilmore",
                                    "2": "The Wake (The Sandman #10)",
                                    "3": "4.53"
                                }
                            ]
                        },
                        "text/html": [
                            "<table>",
                            "<tr><th>book_id</th><th>authors</th><th>title</th><th>avg_rating</th></tr>",
                            "<tr><td>24812</td><td>Bill Watterson</td><td>The Complete Calvin and Hobbes</td><td>4.82</td></tr>",
                            "<tr><td>17332218</td><td>Brandon Sanderson</td><td>Words of Radiance (The Stormlight Archive, #2)</td><td>4.77</td></tr>",
                            "<tr><td>8</td><td>J.K. Rowling, Mary GrandPré</td><td>Harry Potter Boxed Set, Books 1-5 (Harry Potter, #1-5)</td><td>4.77</td></tr>",
                            "<tr><td>5031805</td><td>Anonymous, Lane T. Dennis, Wayne A. Grudem</td><td>ESV Study Bible</td><td>4.76</td></tr>",
                            "<tr><td>95602</td><td>Francine Rivers</td><td>Mark of the Lion Trilogy</td><td>4.76</td></tr>",
                            "<tr><td>24814</td><td>Bill Watterson</td><td>It's a Magical World: A Calvin and Hobbes Collection</td><td>4.75</td></tr>",
                            "<tr><td>862041</td><td>J.K. Rowling</td><td>Harry Potter Boxset (Harry Potter, #1-7)</td><td>4.74</td></tr>",
                            "<tr><td>70489</td><td>Bill Watterson</td><td>There's Treasure Everywhere: A Calvin and Hobbes Collection</td><td>4.74</td></tr>",
                            "<tr><td>10</td><td>J.K. Rowling</td><td>Harry Potter Collection (Harry Potter, #1-6)</td><td>4.73</td></tr>",
                            "<tr><td>59715</td><td>Bill Watterson</td><td>The Authoritative Calvin and Hobbes: A Calvin and Hobbes Treasury</td><td>4.73</td></tr>",
                            "<tr><td>24815</td><td>Bill Watterson</td><td>The Indispensable Calvin and Hobbes</td><td>4.73</td></tr>",
                            "<tr><td>17927395</td><td>Sarah J. Maas</td><td>A Court of Mist and Fury (A Court of Thorns and Roses, #2)</td><td>4.72</td></tr>",
                            "<tr><td>70487</td><td>Bill Watterson</td><td>Attack of the Deranged Mutant Killer Monster Snow Goons</td><td>4.72</td></tr>",
                            "<tr><td>24816</td><td>Bill Watterson</td><td>Homicidal Psycho Jungle Cat: A Calvin and Hobbes Collection</td><td>4.71</td></tr>",
                            "<tr><td>121792</td><td>Bill Watterson</td><td>The Revenge of the Baby-Sat</td><td>4.71</td></tr>",
                            "<tr><td>2350129</td><td>The Church of Jesus Christ of Latter-day Saints</td><td>Preach My Gospel: A Guide To Missionary Service</td><td>4.71</td></tr>",
                            "<tr><td>24818</td><td>Bill Watterson</td><td>The Days Are Just Packed: A Calvin and Hobbes Collection</td><td>4.68</td></tr>",
                            "<tr><td>265205</td><td>Anonymous, Ronald A. Beers, Ronald A. Beers</td><td>Life Application Study Bible: NIV</td><td>4.67</td></tr>",
                            "<tr><td>9329354</td><td>Brandon Sanderson</td><td>The Way of Kings, Part 1 (The Stormlight Archive #1.1)</td><td>4.67</td></tr>",
                            "<tr><td>99298</td><td>J.K. Rowling, Mary GrandPré</td><td>The Harry Potter Collection 1-4 (Harry Potter, #1-4)</td><td>4.66</td></tr>",
                            "<tr><td>5883777</td><td>Anonymous</td><td>The Holy Bible: English Standard Version</td><td>4.66</td></tr>",
                            "<tr><td>24494</td><td>Bill Watterson</td><td>The Calvin and Hobbes Lazy Sunday Book</td><td>4.66</td></tr>",
                            "<tr><td>43070</td><td>Bill Watterson</td><td>The Essential Calvin and Hobbes: A Calvin and Hobbes Treasury</td><td>4.65</td></tr>",
                            "<tr><td>18337259</td><td>Daniel Abraham, George R.R. Martin, Tommy Patterson</td><td>A Game of Thrones: Comic Book, Issue 1</td><td>4.65</td></tr>",
                            "<tr><td>23753</td><td>Neil Gaiman, Mike Dringenberg, Chris Bachalo, Michael Zulli, Kelly Jones, Charles Vess, Colleen Doran, Malcolm Jones III, Steve Parkhouse, Daniel Vozzo, Lee Loughridge, Steve Oliff, Todd Klein, Dave McKean, Sam Kieth</td><td>The Absolute Sandman, Volume One</td><td>4.65</td></tr>",
                            "<tr><td>7235533</td><td>Brandon Sanderson</td><td>The Way of Kings (The Stormlight Archive, #1)</td><td>4.64</td></tr>",
                            "<tr><td>24813</td><td>Bill Watterson</td><td>The Calvin and Hobbes Tenth Anniversary Book</td><td>4.63</td></tr>",
                            "<tr><td>9814682</td><td>George R.R. Martin</td><td>A Song of Ice and Fire (A Song of Ice and Fire, #1-4)</td><td>4.63</td></tr>",
                            "<tr><td>12177850</td><td>George R.R. Martin</td><td>A Song of Ice and Fire (A Song of Ice and Fire, #1-5)</td><td>4.63</td></tr>",
                            "<tr><td>481749</td><td>James E. Talmage</td><td>Jesus the Christ</td><td>4.63</td></tr>",
                            "<tr><td>46292</td><td>Hafez</td><td>The Divan</td><td>4.63</td></tr>",
                            "<tr><td>6801614</td><td>Eiichirō Oda</td><td>One Piece, Volume 38: Rocketman!! (One Piece, #38)</td><td>4.63</td></tr>",
                            "<tr><td>22299763</td><td>Leigh Bardugo</td><td>Crooked Kingdom (Six of Crows, #2)</td><td>4.62</td></tr>",
                            "<tr><td>32075671</td><td>Angie Thomas</td><td>The Hate U Give</td><td>4.62</td></tr>",
                            "<tr><td>136251</td><td>J.K. Rowling, Mary GrandPré</td><td>Harry Potter and the Deathly Hallows (Harry Potter, #7)</td><td>4.61</td></tr>",
                            "<tr><td>77727</td><td>Bill Watterson, G.B. Trudeau</td><td>Calvin and Hobbes</td><td>4.61</td></tr>",
                            "<tr><td>280111</td><td>Anonymous</td><td>Holy Bible: New International Version</td><td>4.61</td></tr>",
                            "<tr><td>2223324</td><td>John   Williams</td><td>Harry Potter and the Chamber of Secrets: Sheet Music for Flute with C.D</td><td>4.61</td></tr>",
                            "<tr><td>6339989</td><td>Richelle Mead</td><td>Vampire Academy Collection (Vampire Academy, #1-3)</td><td>4.61</td></tr>",
                            "<tr><td>596259</td><td>Gordon B. Hinckley</td><td>Standing for Something: 10 Neglected Virtues That Will Heal Our Hearts and Homes</td><td>4.61</td></tr>",
                            "<tr><td>47697</td><td>Alisa Kwitney, Neil Gaiman</td><td>The Sandman: King of Dreams</td><td>4.61</td></tr>",
                            "<tr><td>18006496</td><td>Sarah J. Maas</td><td>Queen of Shadows (Throne of Glass, #4)</td><td>4.6</td></tr>",
                            "<tr><td>95617</td><td>Francine Rivers, Richard Ferrone</td><td>A Voice in the Wind (Mark of the Lion, #1)</td><td>4.6</td></tr>",
                            "<tr><td>46601</td><td>Francine Rivers</td><td>An Echo in the Darkness (Mark of the Lion, #2)</td><td>4.6</td></tr>",
                            "<tr><td>7025086</td><td>Christopher Yost, Pasqual Ferry, Orson Scott Card</td><td>Ender's Game, Volume 2: Command School</td><td>4.6</td></tr>",
                            "<tr><td>18335634</td><td>Cassandra Clare</td><td>Clockwork Princess (The Infernal Devices, #3)</td><td>4.59</td></tr>",
                            "<tr><td>30</td><td>J.R.R. Tolkien</td><td>J.R.R. Tolkien 4-Book Boxed Set: The Hobbit and The Lord of the Rings</td><td>4.59</td></tr>",
                            "<tr><td>2299110</td><td>Sherrilyn Kenyon</td><td>Acheron (Dark-Hunter #14)</td><td>4.59</td></tr>",
                            "<tr><td>119</td><td>Gary Russell</td><td>The Lord of the Rings: The Art of The Fellowship of the Ring</td><td>4.59</td></tr>",
                            "<tr><td>71252</td><td>Neil Gaiman, Marc Hempel, Richard Case, D'Israeli, Teddy Kristiansen, Glyn Dillon, Charles Vess, Dean Ormston, Kevin Nowlan, Todd Klein, Frank McConnell</td><td>The Kindly Ones (The Sandman #9)</td><td>4.59</td></tr>",
                            "<tr><td>349254</td><td>Jude Fisher</td><td>The Lord of the Rings: The Return of the King: Visual Companion</td><td>4.59</td></tr>",
                            "<tr><td>9832370</td><td>BookRags</td><td>BookRags Summary:  A Storm of Swords</td><td>4.59</td></tr>",
                            "<tr><td>11106458</td><td>Cassandra Clare</td><td>The Mortal Instruments (The Mortal Instruments #1-4)</td><td>4.59</td></tr>",
                            "<tr><td>14367051</td><td>Cassandra Clare</td><td>City of Bones / City of Ashes / City of Glass / City of Fallen Angels / City of Lost Souls (The Mortal Instruments, #1-5)</td><td>4.59</td></tr>",
                            "<tr><td>28260587</td><td>Sarah J. Maas</td><td>Empire of Storms (Throne of Glass, #5)</td><td>4.58</td></tr>",
                            "<tr><td>3165162</td><td>Rick Riordan</td><td>Percy Jackson and the Olympians (Percy Jackson and the Olympians, #1-3)</td><td>4.58</td></tr>",
                            "<tr><td>20342617</td><td>Bryan Stevenson</td><td>Just Mercy: A Story of Justice and Redemption</td><td>4.58</td></tr>",
                            "<tr><td>17961</td><td>Jorge Luis Borges, Andrew Hurley</td><td>Collected Fictions</td><td>4.58</td></tr>",
                            "<tr><td>4808763</td><td>Isaac Asimov, Bob E. Flick, Jim Gallant</td><td>The Last Question</td><td>4.58</td></tr>",
                            "<tr><td>15767586</td><td>Sherrilyn Kenyon</td><td>Styxx (Dark-Hunter, #22)</td><td>4.58</td></tr>",
                            "<tr><td>892295</td><td>Arthur Conan Doyle, William S. Baring-Gould</td><td>The Annotated Sherlock Holmes: The Four Novels and the Fifty-Six Short Stories Complete (2 Volume Set)</td><td>4.58</td></tr>",
                            "<tr><td>1215032</td><td>Patrick Rothfuss</td><td>The Wise Man's Fear (The Kingkiller Chronicle, #2)</td><td>4.57</td></tr>",
                            "<tr><td>6485421</td><td>Cassandra Clare</td><td>The Mortal Instruments Boxed Set: City of Bones; City of Ashes; City of Glass (The Mortal Instruments, #1-3)</td><td>4.57</td></tr>",
                            "<tr><td>17131869</td><td>Brian K. Vaughan, Fiona Staples</td><td>Saga, Vol. 2 (Saga, #2)</td><td>4.57</td></tr>",
                            "<tr><td>8718952</td><td>Richelle Mead</td><td>Vampire Academy Box Set (Vampire Academy, #1-4)</td><td>4.57</td></tr>",
                            "<tr><td>4634266</td><td>Masashi Kishimoto</td><td>NARUTO -ナルト- 巻ノ四十三</td><td>4.57</td></tr>",
                            "<tr><td>6443349</td><td>Rick Riordan, Tk</td><td>Percy Jackson and the Olympians Boxed Set (Percy Jackson and the Olympians, #1-5)</td><td>4.57</td></tr>",
                            "<tr><td>545425</td><td>Safiy al-Rahman al-Mubarakfuri</td><td>الرحيق المختوم</td><td>4.57</td></tr>",
                            "<tr><td>17333174</td><td>Ilona Andrews</td><td>Magic Binds (Kate Daniels, #9)</td><td>4.57</td></tr>",
                            "<tr><td>147915</td><td>George R.R. Martin</td><td>A Storm of Swords: Blood and Gold (A Song of Ice and Fire, #3: Part 2 of 2)</td><td>4.56</td></tr>",
                            "<tr><td>19358975</td><td>Brian K. Vaughan, Fiona Staples</td><td>Saga, Vol. 3 (Saga, #3)</td><td>4.56</td></tr>",
                            "<tr><td>10785687</td><td>Bob McCabe</td><td>Harry Potter Page to Screen: The Complete Filmmaking Journey</td><td>4.56</td></tr>",
                            "<tr><td>17880714</td><td>K. Bromberg</td><td>Crashed (Driven, #3)</td><td>4.56</td></tr>",
                            "<tr><td>1317181</td><td>J.K. Rowling</td><td>Harry Potter and the Order of the Phoenix (Harry Potter, #5, Part 1)</td><td>4.56</td></tr>",
                            "<tr><td>15743078</td><td>Veronica Roth</td><td>The Divergent Series 2-Book Collection (Divergent, #1-2)</td><td>4.56</td></tr>",
                            "<tr><td>29236299</td><td>Amie Kaufman, Jay Kristoff, Marie Lu</td><td>Gemina (The Illuminae Files, #2)</td><td>4.56</td></tr>",
                            "<tr><td>186074</td><td>Patrick Rothfuss</td><td>The Name of the Wind (The Kingkiller Chronicle, #1)</td><td>4.55</td></tr>",
                            "<tr><td>19486421</td><td>Jim Butcher</td><td>Skin Game (The Dresden Files, #15)</td><td>4.55</td></tr>",
                            "<tr><td>6604209</td><td>Brandon Sanderson</td><td>Mistborn Trilogy Boxed Set (Mistborn, #1-3)</td><td>4.55</td></tr>",
                            "<tr><td>25105</td><td>Neil Gaiman, Jill Thompson, Vince Locke, Peter Straub</td><td>Brief Lives (The Sandman #7)</td><td>4.55</td></tr>",
                            "<tr><td>8346300</td><td>Andrew Williamson, Andrew Williamson</td><td>Harry Potter: A Pop-Up Book: Based on the Film Phenomenon</td><td>4.55</td></tr>",
                            "<tr><td>14905</td><td>Jane Austen</td><td>The Complete Novels</td><td>4.55</td></tr>",
                            "<tr><td>13184992</td><td>Kristen Ashley</td><td>Rock Chick Regret (Rock Chick, #7)</td><td>4.55</td></tr>",
                            "<tr><td>71823</td><td>Stephen King</td><td>The Green Mile, Part 6: Coffey on the Mile</td><td>4.55</td></tr>",
                            "<tr><td>1</td><td>J.K. Rowling, Mary GrandPré</td><td>Harry Potter and the Half-Blood Prince (Harry Potter, #6)</td><td>4.54</td></tr>",
                            "<tr><td>62291</td><td>George R.R. Martin</td><td>A Storm of Swords (A Song of Ice and Fire, #3)</td><td>4.54</td></tr>",
                            "<tr><td>21853621</td><td>Kristin Hannah</td><td>The Nightingale</td><td>4.54</td></tr>",
                            "<tr><td>12127810</td><td>Rick Riordan</td><td>The House of Hades (The Heroes of Olympus, #4)</td><td>4.54</td></tr>",
                            "<tr><td>6585201</td><td>Jim Butcher</td><td>Changes (The Dresden Files, #12)</td><td>4.54</td></tr>",
                            "<tr><td>381421</td><td>Sarah  Young</td><td>Jesus Calling: Enjoying Peace in His Presence</td><td>4.54</td></tr>",
                            "<tr><td>25101</td><td>Neil Gaiman, Matt Wagner, George Pratt, Dick Giordano, Kelley Jones, P. Craig Russell, Mike Dringenberg, Malcolm Jones III, Todd Klein, Harlan Ellison</td><td>Season of Mists (The Sandman #4)</td><td>4.54</td></tr>",
                            "<tr><td>89959</td><td>Founding Fathers</td><td>The Constitution of the United States of America</td><td>4.54</td></tr>",
                            "<tr><td>23766634</td><td>Sarah J. Maas</td><td>A Court of Wings and Ruin (A Court of Thorns and Roses, #3)</td><td>4.54</td></tr>",
                            "<tr><td>20706320</td><td>Chris Colfer, Brandon Dorman</td><td>A Grimm Warning (The Land of Stories, #3)</td><td>4.54</td></tr>",
                            "<tr><td>8163161</td><td>Bisco Hatori</td><td>Ouran High School Host Club, Vol. 15 (Ouran High School Host Club, #15)</td><td>4.54</td></tr>",
                            "<tr><td>5</td><td>J.K. Rowling, Mary GrandPré, Rufus Beck</td><td>Harry Potter and the Prisoner of Azkaban (Harry Potter, #3)</td><td>4.53</td></tr>",
                            "<tr><td>6</td><td>J.K. Rowling, Mary GrandPré</td><td>Harry Potter and the Goblet of Fire (Harry Potter, #4)</td><td>4.53</td></tr>",
                            "<tr><td>20613470</td><td>Sarah J. Maas</td><td>Heir of Fire (Throne of Glass, #3)</td><td>4.53</td></tr>",
                            "<tr><td>15195</td><td>Art Spiegelman</td><td>The Complete Maus (Maus, #1-2)</td><td>4.53</td></tr>",
                            "<tr><td>25104</td><td>Neil Gaiman, Michael Zulli, Jon J. Muth, Charles Vess, Mikal Gilmore</td><td>The Wake (The Sandman #10)</td><td>4.53</td></tr>",
                            "</table>"
                        ]
                    }
                }
            ],
            "execution_count": 1
        },
        {
            "cell_type": "markdown",
            "source": [
                "Question 2: Write a query to find the least popular book."
            ],
            "metadata": {
                "azdata_cell_guid": "777429b8-8622-489d-9c49-e2acecd7f17e"
            },
            "attachments": {}
        },
        {
            "cell_type": "code",
            "source": [
                "-- return least popular book\n",
                "SELECT\n",
                "    TOP 1 title, average_rating\n",
                "FROM \n",
                "    BooksDB.dbo.books\n",
                "ORDER BY\n",
                "    average_rating "
            ],
            "metadata": {
                "azdata_cell_guid": "c78a1779-db74-470f-a60a-7c72a43d774b",
                "language": "sql"
            },
            "outputs": [
                {
                    "output_type": "display_data",
                    "data": {
                        "text/html": "(1 row affected)"
                    },
                    "metadata": {}
                },
                {
                    "output_type": "display_data",
                    "data": {
                        "text/html": "Total execution time: 00:00:00.125"
                    },
                    "metadata": {}
                },
                {
                    "output_type": "execute_result",
                    "metadata": {},
                    "execution_count": 15,
                    "data": {
                        "application/vnd.dataresource+json": {
                            "schema": {
                                "fields": [
                                    {
                                        "name": "title"
                                    },
                                    {
                                        "name": "average_rating"
                                    }
                                ]
                            },
                            "data": [
                                {
                                    "0": "One Night at the Call Center",
                                    "1": "2.47"
                                }
                            ]
                        },
                        "text/html": [
                            "<table>",
                            "<tr><th>title</th><th>average_rating</th></tr>",
                            "<tr><td>One Night at the Call Center</td><td>2.47</td></tr>",
                            "</table>"
                        ]
                    }
                }
            ],
            "execution_count": 15
        },
        {
            "cell_type": "markdown",
            "source": [
                "Question 3: Which tag is the most popular?"
            ],
            "metadata": {
                "azdata_cell_guid": "a370909d-5d64-49e2-8fec-5220730c8ca7"
            },
            "attachments": {}
        },
        {
            "cell_type": "code",
            "source": [
                "-- return most popular tag\n",
                "SELECT \n",
                "    TOP 1 *\n",
                "FROM\n",
                "    BooksDB.dbo.book_tags\n",
                "ORDER BY\n",
                "    BooksDB.dbo.book_tags.count DESC"
            ],
            "metadata": {
                "azdata_cell_guid": "9e0451dc-c4d3-4775-9eb1-904854f459ff",
                "tags": [],
                "language": "sql"
            },
            "outputs": [
                {
                    "output_type": "display_data",
                    "data": {
                        "text/html": "(1 row affected)"
                    },
                    "metadata": {}
                },
                {
                    "output_type": "display_data",
                    "data": {
                        "text/html": "Total execution time: 00:00:00.486"
                    },
                    "metadata": {}
                },
                {
                    "output_type": "execute_result",
                    "metadata": {},
                    "execution_count": 32,
                    "data": {
                        "application/vnd.dataresource+json": {
                            "schema": {
                                "fields": [
                                    {
                                        "name": "goodreads_book_id"
                                    },
                                    {
                                        "name": "tag_id"
                                    },
                                    {
                                        "name": "count"
                                    }
                                ]
                            },
                            "data": [
                                {
                                    "0": "865",
                                    "1": "30574",
                                    "2": "596234"
                                }
                            ]
                        },
                        "text/html": [
                            "<table>",
                            "<tr><th>goodreads_book_id</th><th>tag_id</th><th>count</th></tr>",
                            "<tr><td>865</td><td>30574</td><td>596234</td></tr>",
                            "</table>"
                        ]
                    }
                }
            ],
            "execution_count": 32
        },
        {
            "cell_type": "markdown",
            "source": [
                "Question 4: What is the name of the most popular tag?"
            ],
            "metadata": {
                "azdata_cell_guid": "3cdfa7e6-c5a6-49fb-aa27-afeece881627"
            },
            "attachments": {}
        },
        {
            "cell_type": "code",
            "source": [
                "-- return name of most popular tag\n",
                "SELECT\n",
                "    *\n",
                "FROM\n",
                "    BooksDB.dbo.tags\n",
                "WHERE\n",
                "    tag_id LIKE 30574"
            ],
            "metadata": {
                "azdata_cell_guid": "3cd3a3ec-4ce2-49b6-b714-44179eed00e1",
                "language": "sql"
            },
            "outputs": [
                {
                    "output_type": "display_data",
                    "data": {
                        "text/html": "(1 row affected)"
                    },
                    "metadata": {}
                },
                {
                    "output_type": "display_data",
                    "data": {
                        "text/html": "Total execution time: 00:00:00.070"
                    },
                    "metadata": {}
                },
                {
                    "output_type": "execute_result",
                    "metadata": {},
                    "execution_count": 34,
                    "data": {
                        "application/vnd.dataresource+json": {
                            "schema": {
                                "fields": [
                                    {
                                        "name": "tag_id"
                                    },
                                    {
                                        "name": "tag_name"
                                    }
                                ]
                            },
                            "data": [
                                {
                                    "0": "30574",
                                    "1": "to-read"
                                }
                            ]
                        },
                        "text/html": [
                            "<table>",
                            "<tr><th>tag_id</th><th>tag_name</th></tr>",
                            "<tr><td>30574</td><td>to-read</td></tr>",
                            "</table>"
                        ]
                    }
                }
            ],
            "execution_count": 34
        },
        {
            "cell_type": "markdown",
            "source": [
                "Question 5: How many books where released in the first decade of 2000?"
            ],
            "metadata": {
                "azdata_cell_guid": "b3962545-c0c2-47ca-a3c4-299c2c0a4b0c"
            },
            "attachments": {}
        },
        {
            "cell_type": "code",
            "source": [
                "-- return number of books published in the first decade of 2000\n",
                "SELECT COUNT(book_id)\n",
                "FROM BooksDB.dbo.books\n",
                "WHERE original_publication_year BETWEEN 2000 AND 2010\n",
                ""
            ],
            "metadata": {
                "azdata_cell_guid": "8dcd65e9-1b3e-4cf8-b726-26729a1225f2",
                "language": "sql"
            },
            "outputs": [
                {
                    "output_type": "display_data",
                    "data": {
                        "text/html": "(1 row affected)"
                    },
                    "metadata": {}
                },
                {
                    "output_type": "display_data",
                    "data": {
                        "text/html": "Total execution time: 00:00:00.228"
                    },
                    "metadata": {}
                },
                {
                    "output_type": "execute_result",
                    "metadata": {},
                    "execution_count": 37,
                    "data": {
                        "application/vnd.dataresource+json": {
                            "schema": {
                                "fields": [
                                    {
                                        "name": "(No column name)"
                                    }
                                ]
                            },
                            "data": [
                                {
                                    "0": "3594"
                                }
                            ]
                        },
                        "text/html": [
                            "<table>",
                            "<tr><th>(No column name)</th></tr>",
                            "<tr><td>3594</td></tr>",
                            "</table>"
                        ]
                    }
                }
            ],
            "execution_count": 37
        },
        {
            "cell_type": "markdown",
            "source": [
                "Question 6: How many book titles contain the word Happy?"
            ],
            "metadata": {
                "azdata_cell_guid": "5080d6de-2775-4055-97ae-f93fce97a426"
            },
            "attachments": {}
        },
        {
            "cell_type": "code",
            "source": [
                "-- return number of books that contain the word Happy\n",
                "SELECT COUNT(*)\n",
                "FROM BooksDB.dbo.books\n",
                "WHERE title LIKE '%Happy%'"
            ],
            "metadata": {
                "azdata_cell_guid": "f55f18b9-91b1-4761-ad8c-4758434d7827",
                "language": "sql"
            },
            "outputs": [
                {
                    "output_type": "display_data",
                    "data": {
                        "text/html": "(1 row affected)"
                    },
                    "metadata": {}
                },
                {
                    "output_type": "display_data",
                    "data": {
                        "text/html": "Total execution time: 00:00:00.120"
                    },
                    "metadata": {}
                },
                {
                    "output_type": "execute_result",
                    "metadata": {},
                    "execution_count": 40,
                    "data": {
                        "application/vnd.dataresource+json": {
                            "schema": {
                                "fields": [
                                    {
                                        "name": "(No column name)"
                                    }
                                ]
                            },
                            "data": [
                                {
                                    "0": "13"
                                }
                            ]
                        },
                        "text/html": [
                            "<table>",
                            "<tr><th>(No column name)</th></tr>",
                            "<tr><td>13</td></tr>",
                            "</table>"
                        ]
                    }
                }
            ],
            "execution_count": 40
        },
        {
            "cell_type": "markdown",
            "source": [
                "Question 7: List the books from the top 3 authors from question 1.  If there is more than one author just use the first one. Sort the titles <span style=\"background-color: rgba(127, 127, 127, 0.1); font-family: -apple-system, BlinkMacSystemFont, sans-serif;\">alphabetically by author and then by average_rating, best rated to lowest. Does order matter in sorting?</span>"
            ],
            "metadata": {
                "azdata_cell_guid": "d38270ef-da5a-42b4-802a-506acb8b9e4b"
            },
            "attachments": {}
        },
        {
            "cell_type": "code",
            "source": [
                "-- return all books from the top 3 authors, sort by author and rating\n",
                "SELECT *\n",
                "FROM BooksDB.dbo.books\n",
                "WHERE authors LIKE '%Bill Waterson%' OR authors LIKE '%Brandon Sanderson%' OR authors LIKE '%J.K. Rowling%'\n",
                "ORDER BY average_rating DESC, authors"
            ],
            "metadata": {
                "azdata_cell_guid": "47466fac-5d8d-491d-bd3c-2f8496f55e6b",
                "language": "sql"
            },
            "outputs": [
                {
                    "output_type": "display_data",
                    "data": {
                        "text/html": "(52 rows affected)"
                    },
                    "metadata": {}
                },
                {
                    "output_type": "display_data",
                    "data": {
                        "text/html": "Total execution time: 00:00:00.219"
                    },
                    "metadata": {}
                },
                {
                    "output_type": "execute_result",
                    "metadata": {},
                    "execution_count": 47,
                    "data": {
                        "application/vnd.dataresource+json": {
                            "schema": {
                                "fields": [
                                    {
                                        "name": "id"
                                    },
                                    {
                                        "name": "book_id"
                                    },
                                    {
                                        "name": "best_book_id"
                                    },
                                    {
                                        "name": "work_id"
                                    },
                                    {
                                        "name": "books_count"
                                    },
                                    {
                                        "name": "isbn"
                                    },
                                    {
                                        "name": "isbn13"
                                    },
                                    {
                                        "name": "authors"
                                    },
                                    {
                                        "name": "original_publication_year"
                                    },
                                    {
                                        "name": "original_title"
                                    },
                                    {
                                        "name": "title"
                                    },
                                    {
                                        "name": "language_code"
                                    },
                                    {
                                        "name": "average_rating"
                                    },
                                    {
                                        "name": "ratings_count"
                                    },
                                    {
                                        "name": "work_ratings_count"
                                    },
                                    {
                                        "name": "work_text_reviews_count"
                                    },
                                    {
                                        "name": "ratings_1"
                                    },
                                    {
                                        "name": "ratings_2"
                                    },
                                    {
                                        "name": "ratings_3"
                                    },
                                    {
                                        "name": "ratings_4"
                                    },
                                    {
                                        "name": "ratings_5"
                                    },
                                    {
                                        "name": "image_url"
                                    },
                                    {
                                        "name": "small_image_url"
                                    }
                                ]
                            },
                            "data": [
                                {
                                    "0": "862",
                                    "1": "17332218",
                                    "2": "17332218",
                                    "3": "16482835",
                                    "4": "34",
                                    "5": "765326361",
                                    "6": "9780765326360",
                                    "7": "Brandon Sanderson",
                                    "8": "2014",
                                    "9": "Words of Radiance",
                                    "10": "Words of Radiance (The Stormlight Archive, #2)",
                                    "11": "eng",
                                    "12": "4.77",
                                    "13": "73572",
                                    "14": "108176",
                                    "15": "7261",
                                    "16": "154",
                                    "17": "404",
                                    "18": "2653",
                                    "19": "18272",
                                    "20": "86693",
                                    "21": "https://images.gr-assets.com/books/1391535251m/17332218.jpg",
                                    "22": "https://images.gr-assets.com/books/1391535251s/17332218.jpg"
                                },
                                {
                                    "0": "3275",
                                    "1": "8",
                                    "2": "8",
                                    "3": "21457576",
                                    "4": "11",
                                    "5": "439682584",
                                    "6": "9780439682590",
                                    "7": "J.K. Rowling, Mary GrandPré",
                                    "8": "2003",
                                    "9": "NULL",
                                    "10": "Harry Potter Boxed Set, Books 1-5 (Harry Potter, #1-5)",
                                    "11": "eng",
                                    "12": "4.77",
                                    "13": "33220",
                                    "14": "33424",
                                    "15": "156",
                                    "16": "317",
                                    "17": "233",
                                    "18": "978",
                                    "19": "3686",
                                    "20": "28210",
                                    "21": "https://s.gr-assets.com/assets/nophoto/book/111x148-bcc042a9c91a29c1d680899eff700a03.png",
                                    "22": "https://s.gr-assets.com/assets/nophoto/book/50x75-a91bf249278a81aabab721ef782c4a74.png"
                                },
                                {
                                    "0": "422",
                                    "1": "862041",
                                    "2": "862041",
                                    "3": "2962492",
                                    "4": "76",
                                    "5": "545044251",
                                    "6": "9780545044260",
                                    "7": "J.K. Rowling",
                                    "8": "1998",
                                    "9": "Complete Harry Potter Boxed Set",
                                    "10": "Harry Potter Boxset (Harry Potter, #1-7)",
                                    "11": "eng",
                                    "12": "4.74",
                                    "13": "190050",
                                    "14": "204125",
                                    "15": "6508",
                                    "16": "1105",
                                    "17": "1285",
                                    "18": "7020",
                                    "19": "30666",
                                    "20": "164049",
                                    "21": "https://images.gr-assets.com/books/1392579059m/862041.jpg",
                                    "22": "https://images.gr-assets.com/books/1392579059s/862041.jpg"
                                },
                                {
                                    "0": "3753",
                                    "1": "10",
                                    "2": "10",
                                    "3": "21457570",
                                    "4": "6",
                                    "5": "439827604",
                                    "6": "9780439827610",
                                    "7": "J.K. Rowling",
                                    "8": "2005",
                                    "9": "Harry Potter Collection (Harry Potter, #1-6)",
                                    "10": "Harry Potter Collection (Harry Potter, #1-6)",
                                    "11": "eng",
                                    "12": "4.73",
                                    "13": "24618",
                                    "14": "26274",
                                    "15": "882",
                                    "16": "203",
                                    "17": "186",
                                    "18": "946",
                                    "19": "3891",
                                    "20": "21048",
                                    "21": "https://images.gr-assets.com/books/1328867351m/10.jpg",
                                    "22": "https://images.gr-assets.com/books/1328867351s/10.jpg"
                                },
                                {
                                    "0": "9141",
                                    "1": "9329354",
                                    "2": "9329354",
                                    "3": "27679568",
                                    "4": "19",
                                    "5": "575097361",
                                    "6": "9780575097360",
                                    "7": "Brandon Sanderson",
                                    "8": "2011",
                                    "9": "The Way of Kings, Part 1",
                                    "10": "The Way of Kings, Part 1 (The Stormlight Archive #1.1)",
                                    "11": "eng",
                                    "12": "4.67",
                                    "13": "9792",
                                    "14": "10117",
                                    "15": "453",
                                    "16": "40",
                                    "17": "93",
                                    "18": "408",
                                    "19": "2078",
                                    "20": "7498",
                                    "21": "https://images.gr-assets.com/books/1357609842m/9329354.jpg",
                                    "22": "https://images.gr-assets.com/books/1357609842s/9329354.jpg"
                                },
                                {
                                    "0": "2101",
                                    "1": "99298",
                                    "2": "99298",
                                    "3": "5994366",
                                    "4": "17",
                                    "5": "439249546",
                                    "6": "9780439249550",
                                    "7": "J.K. Rowling, Mary GrandPré",
                                    "8": "1999",
                                    "9": "Harry Potter Boxed Set Books 1-4",
                                    "10": "The Harry Potter Collection 1-4 (Harry Potter, #1-4)",
                                    "11": "eng",
                                    "12": "4.66",
                                    "13": "43929",
                                    "14": "44842",
                                    "15": "265",
                                    "16": "307",
                                    "17": "424",
                                    "18": "2346",
                                    "19": "8186",
                                    "20": "33579",
                                    "21": "https://s.gr-assets.com/assets/nophoto/book/111x148-bcc042a9c91a29c1d680899eff700a03.png",
                                    "22": "https://s.gr-assets.com/assets/nophoto/book/50x75-a91bf249278a81aabab721ef782c4a74.png"
                                },
                                {
                                    "0": "562",
                                    "1": "7235533",
                                    "2": "7235533",
                                    "3": "8134945",
                                    "4": "48",
                                    "5": "765326353",
                                    "6": "9780765326360",
                                    "7": "Brandon Sanderson",
                                    "8": "2010",
                                    "9": "The Way of Kings",
                                    "10": "The Way of Kings (The Stormlight Archive, #1)",
                                    "11": "eng",
                                    "12": "4.64",
                                    "13": "144822",
                                    "14": "164477",
                                    "15": "10947",
                                    "16": "1085",
                                    "17": "1827",
                                    "18": "7661",
                                    "19": "33962",
                                    "20": "119942",
                                    "21": "https://images.gr-assets.com/books/1388184640m/7235533.jpg",
                                    "22": "https://images.gr-assets.com/books/1388184640s/7235533.jpg"
                                },
                                {
                                    "0": "25",
                                    "1": "136251",
                                    "2": "136251",
                                    "3": "2963218",
                                    "4": "263",
                                    "5": "545010225",
                                    "6": "9780545010220",
                                    "7": "J.K. Rowling, Mary GrandPré",
                                    "8": "2007",
                                    "9": "Harry Potter and the Deathly Hallows",
                                    "10": "Harry Potter and the Deathly Hallows (Harry Potter, #7)",
                                    "11": "eng",
                                    "12": "4.61",
                                    "13": "1746574",
                                    "14": "1847395",
                                    "15": "51942",
                                    "16": "9363",
                                    "17": "22245",
                                    "18": "113646",
                                    "19": "383914",
                                    "20": "1318227",
                                    "21": "https://images.gr-assets.com/books/1474171184m/136251.jpg",
                                    "22": "https://images.gr-assets.com/books/1474171184s/136251.jpg"
                                },
                                {
                                    "0": "6141",
                                    "1": "1317181",
                                    "2": "1317181",
                                    "3": "19079807",
                                    "4": "8",
                                    "5": "185549664X",
                                    "6": "9781855496640",
                                    "7": "J.K. Rowling",
                                    "8": "2003",
                                    "9": "NULL",
                                    "10": "Harry Potter and the Order of the Phoenix (Harry Potter, #5, Part 1)",
                                    "11": "NULL",
                                    "12": "4.56",
                                    "13": "16249",
                                    "14": "16350",
                                    "15": "272",
                                    "16": "114",
                                    "17": "199",
                                    "18": "1182",
                                    "19": "3744",
                                    "20": "11111",
                                    "21": "https://s.gr-assets.com/assets/nophoto/book/111x148-bcc042a9c91a29c1d680899eff700a03.png",
                                    "22": "https://s.gr-assets.com/assets/nophoto/book/50x75-a91bf249278a81aabab721ef782c4a74.png"
                                },
                                {
                                    "0": "2889",
                                    "1": "6604209",
                                    "2": "6604209",
                                    "3": "6798109",
                                    "4": "15",
                                    "5": "076536543X",
                                    "6": "9780765365440",
                                    "7": "Brandon Sanderson",
                                    "8": "2009",
                                    "9": "Mistborn Trilogy Boxed Set",
                                    "10": "Mistborn Trilogy Boxed Set (Mistborn, #1-3)",
                                    "11": "en-US",
                                    "12": "4.55",
                                    "13": "22917",
                                    "14": "32376",
                                    "15": "982",
                                    "16": "130",
                                    "17": "425",
                                    "18": "2185",
                                    "19": "8517",
                                    "20": "21119",
                                    "21": "https://images.gr-assets.com/books/1257442247m/6604209.jpg",
                                    "22": "https://images.gr-assets.com/books/1257442247s/6604209.jpg"
                                },
                                {
                                    "0": "27",
                                    "1": "1",
                                    "2": "1",
                                    "3": "41335427",
                                    "4": "275",
                                    "5": "439785960",
                                    "6": "9780439785970",
                                    "7": "J.K. Rowling, Mary GrandPré",
                                    "8": "2005",
                                    "9": "Harry Potter and the Half-Blood Prince",
                                    "10": "Harry Potter and the Half-Blood Prince (Harry Potter, #6)",
                                    "11": "eng",
                                    "12": "4.54",
                                    "13": "1678823",
                                    "14": "1785676",
                                    "15": "27520",
                                    "16": "7308",
                                    "17": "21516",
                                    "18": "136333",
                                    "19": "459028",
                                    "20": "1161491",
                                    "21": "https://images.gr-assets.com/books/1361039191m/1.jpg",
                                    "22": "https://images.gr-assets.com/books/1361039191s/1.jpg"
                                },
                                {
                                    "0": "24",
                                    "1": "6",
                                    "2": "6",
                                    "3": "3046572",
                                    "4": "332",
                                    "5": "439139600",
                                    "6": "9780439139600",
                                    "7": "J.K. Rowling, Mary GrandPré",
                                    "8": "2000",
                                    "9": "Harry Potter and the Goblet of Fire",
                                    "10": "Harry Potter and the Goblet of Fire (Harry Potter, #4)",
                                    "11": "eng",
                                    "12": "4.53",
                                    "13": "1753043",
                                    "14": "1868642",
                                    "15": "31084",
                                    "16": "6676",
                                    "17": "20210",
                                    "18": "151785",
                                    "19": "494926",
                                    "20": "1195045",
                                    "21": "https://images.gr-assets.com/books/1361482611m/6.jpg",
                                    "22": "https://images.gr-assets.com/books/1361482611s/6.jpg"
                                },
                                {
                                    "0": "18",
                                    "1": "5",
                                    "2": "5",
                                    "3": "2402163",
                                    "4": "376",
                                    "5": "043965548X",
                                    "6": "9780439655480",
                                    "7": "J.K. Rowling, Mary GrandPré, Rufus Beck",
                                    "8": "1999",
                                    "9": "Harry Potter and the Prisoner of Azkaban",
                                    "10": "Harry Potter and the Prisoner of Azkaban (Harry Potter, #3)",
                                    "11": "eng",
                                    "12": "4.53",
                                    "13": "1832823",
                                    "14": "1969375",
                                    "15": "36099",
                                    "16": "6716",
                                    "17": "20413",
                                    "18": "166129",
                                    "19": "509447",
                                    "20": "1266670",
                                    "21": "https://images.gr-assets.com/books/1499277281m/5.jpg",
                                    "22": "https://images.gr-assets.com/books/1499277281s/5.jpg"
                                },
                                {
                                    "0": "1374",
                                    "1": "7743175",
                                    "2": "7743175",
                                    "3": "10558806",
                                    "4": "33",
                                    "5": "765325950",
                                    "6": "9780765325950",
                                    "7": "Robert Jordan, Brandon Sanderson",
                                    "8": "2012",
                                    "9": "A Memory of Light",
                                    "10": "A Memory of Light (Wheel of Time, #14)",
                                    "11": "eng",
                                    "12": "4.5",
                                    "13": "68410",
                                    "14": "75741",
                                    "15": "4883",
                                    "16": "635",
                                    "17": "1293",
                                    "18": "5973",
                                    "19": "19274",
                                    "20": "48566",
                                    "21": "https://images.gr-assets.com/books/1336055749m/7743175.jpg",
                                    "22": "https://images.gr-assets.com/books/1336055749s/7743175.jpg"
                                },
                                {
                                    "0": "603",
                                    "1": "2767793",
                                    "2": "2767793",
                                    "3": "2793516",
                                    "4": "63",
                                    "5": "765316897",
                                    "6": "9780765316900",
                                    "7": "Brandon Sanderson",
                                    "8": "2008",
                                    "9": "The Hero of Ages",
                                    "10": "The Hero of Ages (Mistborn, #3)",
                                    "11": "eng",
                                    "12": "4.46",
                                    "13": "143622",
                                    "14": "161085",
                                    "15": "9111",
                                    "16": "596",
                                    "17": "2257",
                                    "18": "14291",
                                    "19": "49628",
                                    "20": "94313",
                                    "21": "https://images.gr-assets.com/books/1480717763m/2767793.jpg",
                                    "22": "https://images.gr-assets.com/books/1480717763s/2767793.jpg"
                                },
                                {
                                    "0": "21",
                                    "1": "2",
                                    "2": "2",
                                    "3": "2809203",
                                    "4": "307",
                                    "5": "439358078",
                                    "6": "9780439358070",
                                    "7": "J.K. Rowling, Mary GrandPré",
                                    "8": "2003",
                                    "9": "Harry Potter and the Order of the Phoenix",
                                    "10": "Harry Potter and the Order of the Phoenix (Harry Potter, #5)",
                                    "11": "eng",
                                    "12": "4.46",
                                    "13": "1735368",
                                    "14": "1840548",
                                    "15": "28685",
                                    "16": "9528",
                                    "17": "31577",
                                    "18": "180210",
                                    "19": "494427",
                                    "20": "1124806",
                                    "21": "https://images.gr-assets.com/books/1387141547m/2.jpg",
                                    "22": "https://images.gr-assets.com/books/1387141547s/2.jpg"
                                },
                                {
                                    "0": "3341",
                                    "1": "18739426",
                                    "2": "18739426",
                                    "3": "26616838",
                                    "4": "21",
                                    "5": "NULL",
                                    "6": "NULL",
                                    "7": "Brandon Sanderson",
                                    "8": "2016",
                                    "9": "The Bands of Mourning",
                                    "10": "The Bands of Mourning (Mistborn, #6)",
                                    "11": "eng",
                                    "12": "4.45",
                                    "13": "28866",
                                    "14": "33232",
                                    "15": "2379",
                                    "16": "42",
                                    "17": "249",
                                    "18": "2519",
                                    "19": "12186",
                                    "20": "18236",
                                    "21": "https://images.gr-assets.com/books/1450134973m/18739426.jpg",
                                    "22": "https://images.gr-assets.com/books/1450134973s/18739426.jpg"
                                },
                                {
                                    "0": "2",
                                    "1": "3",
                                    "2": "3",
                                    "3": "4640799",
                                    "4": "491",
                                    "5": "439554934",
                                    "6": "9780439554930",
                                    "7": "J.K. Rowling, Mary GrandPré",
                                    "8": "1997",
                                    "9": "Harry Potter and the Philosopher's Stone",
                                    "10": "Harry Potter and the Sorcerer's Stone (Harry Potter, #1)",
                                    "11": "eng",
                                    "12": "4.44",
                                    "13": "4602479",
                                    "14": "4800065",
                                    "15": "75867",
                                    "16": "75504",
                                    "17": "101676",
                                    "18": "455024",
                                    "19": "1156318",
                                    "20": "3011543",
                                    "21": "https://images.gr-assets.com/books/1474154022m/3.jpg",
                                    "22": "https://images.gr-assets.com/books/1474154022s/3.jpg"
                                },
                                {
                                    "0": "389",
                                    "1": "68428",
                                    "2": "68428",
                                    "3": "66322",
                                    "4": "75",
                                    "5": "076531178X",
                                    "6": "9780765311790",
                                    "7": "Brandon Sanderson",
                                    "8": "2006",
                                    "9": "Mistborn : The Final Empire",
                                    "10": "The Final Empire (Mistborn, #1)",
                                    "11": "eng",
                                    "12": "4.43",
                                    "13": "208944",
                                    "14": "238993",
                                    "15": "16276",
                                    "16": "1783",
                                    "17": "4008",
                                    "18": "20554",
                                    "19": "76611",
                                    "20": "136037",
                                    "21": "https://images.gr-assets.com/books/1480717416m/68428.jpg",
                                    "22": "https://images.gr-assets.com/books/1480717416s/68428.jpg"
                                },
                                {
                                    "0": "988",
                                    "1": "8253920",
                                    "2": "8253920",
                                    "3": "7338128",
                                    "4": "39",
                                    "5": "765325942",
                                    "6": "9780765325940",
                                    "7": "Robert Jordan, Brandon Sanderson",
                                    "8": "2010",
                                    "9": "Towers of Midnight",
                                    "10": "Towers of Midnight (Wheel of Time, #13)",
                                    "11": "en-US",
                                    "12": "4.42",
                                    "13": "91383",
                                    "14": "98092",
                                    "15": "2356",
                                    "16": "877",
                                    "17": "1704",
                                    "18": "9062",
                                    "19": "30593",
                                    "20": "55856",
                                    "21": "https://images.gr-assets.com/books/1358109459m/8253920.jpg",
                                    "22": "https://images.gr-assets.com/books/1358109459s/8253920.jpg"
                                },
                                {
                                    "0": "4641",
                                    "1": "30065028",
                                    "2": "29363501",
                                    "3": "50435175",
                                    "4": "49",
                                    "5": "NULL",
                                    "6": "NULL",
                                    "7": "J.K. Rowling",
                                    "8": "2016",
                                    "9": "Fantastic Beasts and Where to Find Them: The Original Screenplay",
                                    "10": "Fantastic Beasts and Where to Find Them: The Original Screenplay",
                                    "11": "eng",
                                    "12": "4.41",
                                    "13": "18290",
                                    "14": "42210",
                                    "15": "4692",
                                    "16": "323",
                                    "17": "721",
                                    "18": "4257",
                                    "19": "13024",
                                    "20": "23885",
                                    "21": "https://images.gr-assets.com/books/1476913365m/30065028.jpg",
                                    "22": "https://images.gr-assets.com/books/1476913365s/30065028.jpg"
                                },
                                {
                                    "0": "9048",
                                    "1": "2002",
                                    "2": "2002",
                                    "3": "8621948",
                                    "4": "5",
                                    "5": "043932162X",
                                    "6": "9780439321620",
                                    "7": "J.K. Rowling",
                                    "8": "2001",
                                    "9": "NULL",
                                    "10": "Harry Potter Schoolbooks Box Set: Two Classic Books from the Library of Hogwarts School of Witchcraft and Wizardry",
                                    "11": "eng",
                                    "12": "4.4",
                                    "13": "10736",
                                    "14": "11732",
                                    "15": "185",
                                    "16": "106",
                                    "17": "304",
                                    "18": "1548",
                                    "19": "2595",
                                    "20": "7179",
                                    "21": "https://images.gr-assets.com/books/1479775271m/2002.jpg",
                                    "22": "https://images.gr-assets.com/books/1479775271s/2002.jpg"
                                },
                                {
                                    "0": "7993",
                                    "1": "28698036",
                                    "2": "28698036",
                                    "3": "48896020",
                                    "4": "5",
                                    "5": "NULL",
                                    "6": "NULL",
                                    "7": "Brandon Sanderson",
                                    "8": "2016",
                                    "9": "Mistborn: Secret History",
                                    "10": "Secret History (Mistborn, #3.5)",
                                    "11": "eng",
                                    "12": "4.38",
                                    "13": "12796",
                                    "14": "13424",
                                    "15": "1081",
                                    "16": "30",
                                    "17": "191",
                                    "18": "1573",
                                    "19": "4535",
                                    "20": "7095",
                                    "21": "https://s.gr-assets.com/assets/nophoto/book/111x148-bcc042a9c91a29c1d680899eff700a03.png",
                                    "22": "https://s.gr-assets.com/assets/nophoto/book/50x75-a91bf249278a81aabab721ef782c4a74.png"
                                },
                                {
                                    "0": "23",
                                    "1": "15881",
                                    "2": "15881",
                                    "3": "6231171",
                                    "4": "398",
                                    "5": "439064864",
                                    "6": "9780439064870",
                                    "7": "J.K. Rowling, Mary GrandPré",
                                    "8": "1998",
                                    "9": "Harry Potter and the Chamber of Secrets",
                                    "10": "Harry Potter and the Chamber of Secrets (Harry Potter, #2)",
                                    "11": "eng",
                                    "12": "4.37",
                                    "13": "1779331",
                                    "14": "1906199",
                                    "15": "34172",
                                    "16": "8253",
                                    "17": "42251",
                                    "18": "242345",
                                    "19": "548266",
                                    "20": "1065084",
                                    "21": "https://images.gr-assets.com/books/1474169725m/15881.jpg",
                                    "22": "https://images.gr-assets.com/books/1474169725s/15881.jpg"
                                },
                                {
                                    "0": "565",
                                    "1": "68429",
                                    "2": "68429",
                                    "3": "2120474",
                                    "4": "60",
                                    "5": "765316889",
                                    "6": "9780765316880",
                                    "7": "Brandon Sanderson",
                                    "8": "2007",
                                    "9": "NULL",
                                    "10": "The Well of Ascension (Mistborn, #2)",
                                    "11": "eng",
                                    "12": "4.35",
                                    "13": "150736",
                                    "14": "171402",
                                    "15": "8541",
                                    "16": "534",
                                    "17": "2630",
                                    "18": "18661",
                                    "19": "63880",
                                    "20": "85697",
                                    "21": "https://images.gr-assets.com/books/1480717596m/68429.jpg",
                                    "22": "https://images.gr-assets.com/books/1480717596s/68429.jpg"
                                },
                                {
                                    "0": "960",
                                    "1": "1166599",
                                    "2": "1166599",
                                    "3": "1920889",
                                    "4": "2",
                                    "5": "765302306",
                                    "6": "9780765302300",
                                    "7": "Robert Jordan, Brandon Sanderson",
                                    "8": "2009",
                                    "9": "The Gathering Storm",
                                    "10": "The Gathering Storm (Wheel of Time, #12)",
                                    "11": "eng",
                                    "12": "4.34",
                                    "13": "94095",
                                    "14": "100343",
                                    "15": "2582",
                                    "16": "1146",
                                    "17": "2178",
                                    "18": "10877",
                                    "19": "32914",
                                    "20": "53228",
                                    "21": "https://s.gr-assets.com/assets/nophoto/book/111x148-bcc042a9c91a29c1d680899eff700a03.png",
                                    "22": "https://s.gr-assets.com/assets/nophoto/book/50x75-a91bf249278a81aabab721ef782c4a74.png"
                                },
                                {
                                    "0": "2978",
                                    "1": "13578175",
                                    "2": "13578175",
                                    "3": "19161502",
                                    "4": "20",
                                    "5": "1616960922",
                                    "6": "9781616960930",
                                    "7": "Brandon Sanderson",
                                    "8": "2012",
                                    "9": "The Emperor's Soul",
                                    "10": "The Emperor's Soul",
                                    "11": "eng",
                                    "12": "4.33",
                                    "13": "33634",
                                    "14": "39282",
                                    "15": "2989",
                                    "16": "84",
                                    "17": "477",
                                    "18": "4536",
                                    "19": "15386",
                                    "20": "18799",
                                    "21": "https://images.gr-assets.com/books/1343059311m/13578175.jpg",
                                    "22": "https://images.gr-assets.com/books/1343059311s/13578175.jpg"
                                },
                                {
                                    "0": "2792",
                                    "1": "16065004",
                                    "2": "16065004",
                                    "3": "21855448",
                                    "4": "25",
                                    "5": "765378558",
                                    "6": "9780765378550",
                                    "7": "Brandon Sanderson",
                                    "8": "2015",
                                    "9": "Shadows of Self",
                                    "10": "Shadows of Self (Mistborn, #5)",
                                    "11": "eng",
                                    "12": "4.3",
                                    "13": "32170",
                                    "14": "40479",
                                    "15": "2804",
                                    "16": "85",
                                    "17": "469",
                                    "18": "4687",
                                    "19": "17295",
                                    "20": "17943",
                                    "21": "https://images.gr-assets.com/books/1435053013m/16065004.jpg",
                                    "22": "https://images.gr-assets.com/books/1435053013s/16065004.jpg"
                                },
                                {
                                    "0": "2118",
                                    "1": "15704459",
                                    "2": "15704459",
                                    "3": "21979689",
                                    "4": "51",
                                    "5": "385743580",
                                    "6": "9780385743590",
                                    "7": "Brandon Sanderson",
                                    "8": "2015",
                                    "9": "Firefight",
                                    "10": "Firefight (The Reckoners, #2)",
                                    "11": "eng",
                                    "12": "4.29",
                                    "13": "41924",
                                    "14": "50765",
                                    "15": "4426",
                                    "16": "95",
                                    "17": "622",
                                    "18": "6180",
                                    "19": "21247",
                                    "20": "22621",
                                    "21": "https://images.gr-assets.com/books/1413220816m/15704459.jpg",
                                    "22": "https://images.gr-assets.com/books/1413220816s/15704459.jpg"
                                },
                                {
                                    "0": "7929",
                                    "1": "23731881",
                                    "2": "23731881",
                                    "3": "43264515",
                                    "4": "6",
                                    "5": "316369152",
                                    "6": "9780316369150",
                                    "7": "J.K. Rowling, Joel Holland",
                                    "8": "2015",
                                    "9": "Very Good Lives: The Fringe Benefits of Failure and the Importance of Imagination",
                                    "10": "Very Good Lives: The Fringe Benefits of Failure and the Importance of Imagination",
                                    "11": "eng",
                                    "12": "4.26",
                                    "13": "12510",
                                    "14": "13494",
                                    "15": "1838",
                                    "16": "312",
                                    "17": "408",
                                    "18": "1755",
                                    "19": "3965",
                                    "20": "7054",
                                    "21": "https://images.gr-assets.com/books/1418419116m/23731881.jpg",
                                    "22": "https://images.gr-assets.com/books/1418419116s/23731881.jpg"
                                },
                                {
                                    "0": "3147",
                                    "1": "22443261",
                                    "2": "22443261",
                                    "3": "15035866",
                                    "4": "38",
                                    "5": "NULL",
                                    "6": "NULL",
                                    "7": "Brandon Sanderson",
                                    "8": "2013",
                                    "9": "The Rithmatist ",
                                    "10": "The Rithmatist (The Rithmatist, #1)",
                                    "11": "eng",
                                    "12": "4.25",
                                    "13": "15977",
                                    "14": "36047",
                                    "15": "4864",
                                    "16": "156",
                                    "17": "652",
                                    "18": "4730",
                                    "19": "15170",
                                    "20": "15339",
                                    "21": "https://s.gr-assets.com/assets/nophoto/book/111x148-bcc042a9c91a29c1d680899eff700a03.png",
                                    "22": "https://s.gr-assets.com/assets/nophoto/book/50x75-a91bf249278a81aabab721ef782c4a74.png"
                                },
                                {
                                    "0": "1665",
                                    "1": "1268479",
                                    "2": "1268479",
                                    "3": "1257385",
                                    "4": "41",
                                    "5": "NULL",
                                    "6": "NULL",
                                    "7": "Brandon Sanderson",
                                    "8": "2009",
                                    "9": "Warbreaker",
                                    "10": "Warbreaker (Warbreaker, #1)",
                                    "11": "eng",
                                    "12": "4.22",
                                    "13": "55948",
                                    "14": "65488",
                                    "15": "4548",
                                    "16": "322",
                                    "17": "1337",
                                    "18": "9533",
                                    "19": "26899",
                                    "20": "27397",
                                    "21": "https://s.gr-assets.com/assets/nophoto/book/111x148-bcc042a9c91a29c1d680899eff700a03.png",
                                    "22": "https://s.gr-assets.com/assets/nophoto/book/50x75-a91bf249278a81aabab721ef782c4a74.png"
                                },
                                {
                                    "0": "6428",
                                    "1": "31538635",
                                    "2": "31538635",
                                    "3": "52885176",
                                    "4": "18",
                                    "5": "1781106282",
                                    "6": "9781781106280",
                                    "7": "J.K. Rowling, MinaLima",
                                    "8": "2016",
                                    "9": "Short Stories from Hogwarts of Heroism, Hardship and Dangerous Hobbies",
                                    "10": "Short Stories from Hogwarts of Heroism, Hardship and Dangerous Hobbies (Pottermore Presents, #1)",
                                    "11": "eng",
                                    "12": "4.22",
                                    "13": "16285",
                                    "14": "24805",
                                    "15": "1743",
                                    "16": "636",
                                    "17": "713",
                                    "18": "3498",
                                    "19": "7555",
                                    "20": "12403",
                                    "21": "https://images.gr-assets.com/books/1471436733m/31538635.jpg",
                                    "22": "https://images.gr-assets.com/books/1471436733s/31538635.jpg"
                                },
                                {
                                    "0": "7523",
                                    "1": "31538647",
                                    "2": "31538647",
                                    "3": "52218770",
                                    "4": "18",
                                    "5": "NULL",
                                    "6": "NULL",
                                    "7": "J.K. Rowling",
                                    "8": "2016",
                                    "9": "Hogwarts: An Incomplete and Unreliable Guide",
                                    "10": "Hogwarts: An Incomplete and Unreliable Guide (Pottermore Presents, #3)",
                                    "11": "eng",
                                    "12": "4.21",
                                    "13": "14977",
                                    "14": "15844",
                                    "15": "1339",
                                    "16": "63",
                                    "17": "346",
                                    "18": "2806",
                                    "19": "5543",
                                    "20": "7086",
                                    "21": "https://images.gr-assets.com/books/1502156557m/31538647.jpg",
                                    "22": "https://images.gr-assets.com/books/1502156557s/31538647.jpg"
                                },
                                {
                                    "0": "1065",
                                    "1": "25735012",
                                    "2": "25735012",
                                    "3": "43699375",
                                    "4": "83",
                                    "5": "316349933",
                                    "6": "9780316349930",
                                    "7": "Robert Galbraith, J.K. Rowling",
                                    "8": "2015",
                                    "9": "Career of Evil",
                                    "10": "Career of Evil (Cormoran Strike, #3)",
                                    "11": "eng",
                                    "12": "4.21",
                                    "13": "66979",
                                    "14": "95274",
                                    "15": "10254",
                                    "16": "550",
                                    "17": "1926",
                                    "18": "12591",
                                    "19": "42325",
                                    "20": "37882",
                                    "21": "https://s.gr-assets.com/assets/nophoto/book/111x148-bcc042a9c91a29c1d680899eff700a03.png",
                                    "22": "https://s.gr-assets.com/assets/nophoto/book/50x75-a91bf249278a81aabab721ef782c4a74.png"
                                },
                                {
                                    "0": "1200",
                                    "1": "10803121",
                                    "2": "10803121",
                                    "3": "15035863",
                                    "4": "45",
                                    "5": "765330423",
                                    "6": "9780765330420",
                                    "7": "Brandon Sanderson",
                                    "8": "2011",
                                    "9": "The Alloy of Law",
                                    "10": "The Alloy of Law (Mistborn, #4)",
                                    "11": "eng",
                                    "12": "4.2",
                                    "13": "72185",
                                    "14": "84897",
                                    "15": "5303",
                                    "16": "271",
                                    "17": "1652",
                                    "18": "12408",
                                    "19": "36754",
                                    "20": "33812",
                                    "21": "https://s.gr-assets.com/assets/nophoto/book/111x148-bcc042a9c91a29c1d680899eff700a03.png",
                                    "22": "https://s.gr-assets.com/assets/nophoto/book/50x75-a91bf249278a81aabab721ef782c4a74.png"
                                },
                                {
                                    "0": "3249",
                                    "1": "15704486",
                                    "2": "15704486",
                                    "3": "21366542",
                                    "4": "35",
                                    "5": "385743602",
                                    "6": "9780385743600",
                                    "7": "Brandon Sanderson",
                                    "8": "2016",
                                    "9": "Calamity",
                                    "10": "Calamity (The Reckoners, #3)",
                                    "11": "eng",
                                    "12": "4.2",
                                    "13": "27146",
                                    "14": "33909",
                                    "15": "3310",
                                    "16": "93",
                                    "17": "680",
                                    "18": "5383",
                                    "19": "14098",
                                    "20": "13655",
                                    "21": "https://images.gr-assets.com/books/1437098338m/15704486.jpg",
                                    "22": "https://images.gr-assets.com/books/1437098338s/15704486.jpg"
                                },
                                {
                                    "0": "7443",
                                    "1": "31538614",
                                    "2": "31538614",
                                    "3": "52218734",
                                    "4": "18",
                                    "5": "1781106290",
                                    "6": "9781781106300",
                                    "7": "J.K. Rowling, MinaLima",
                                    "8": "2016",
                                    "9": "Short Stories from Hogwarts of Power, Politics and Pesky Poltergeists",
                                    "10": "Short Stories from Hogwarts of Power, Politics and Pesky Poltergeists (Pottermore Presents, #2)",
                                    "11": "eng",
                                    "12": "4.2",
                                    "13": "10032",
                                    "14": "15880",
                                    "15": "1246",
                                    "16": "62",
                                    "17": "376",
                                    "18": "2872",
                                    "19": "5600",
                                    "20": "6970",
                                    "21": "https://images.gr-assets.com/books/1471436601m/31538614.jpg",
                                    "22": "https://images.gr-assets.com/books/1471436601s/31538614.jpg"
                                },
                                {
                                    "0": "1049",
                                    "1": "68427",
                                    "2": "68427",
                                    "3": "2908871",
                                    "4": "60",
                                    "5": "765350378",
                                    "6": "9780765350370",
                                    "7": "Brandon Sanderson",
                                    "8": "2005",
                                    "9": "Elantris",
                                    "10": "Elantris (Elantris, #1)",
                                    "11": "eng",
                                    "12": "4.17",
                                    "13": "95950",
                                    "14": "105780",
                                    "15": "6438",
                                    "16": "1311",
                                    "17": "2974",
                                    "18": "16025",
                                    "19": "41443",
                                    "20": "44027",
                                    "21": "https://images.gr-assets.com/books/1475740953m/68427.jpg",
                                    "22": "https://images.gr-assets.com/books/1475740953s/68427.jpg"
                                },
                                {
                                    "0": "970",
                                    "1": "17182126",
                                    "2": "17182126",
                                    "3": "21366540",
                                    "4": "64",
                                    "5": "385743564",
                                    "6": "9780385743560",
                                    "7": "Brandon Sanderson",
                                    "8": "2013",
                                    "9": "Steelheart",
                                    "10": "Steelheart (The Reckoners, #1)",
                                    "11": "eng",
                                    "12": "4.16",
                                    "13": "76261",
                                    "14": "102116",
                                    "15": "10160",
                                    "16": "1300",
                                    "17": "3063",
                                    "18": "15596",
                                    "19": "40585",
                                    "20": "41572",
                                    "21": "https://images.gr-assets.com/books/1357576738m/17182126.jpg",
                                    "22": "https://images.gr-assets.com/books/1357576738s/17182126.jpg"
                                },
                                {
                                    "0": "4488",
                                    "1": "13452375",
                                    "2": "13452375",
                                    "3": "18978261",
                                    "4": "24",
                                    "5": "1596064854",
                                    "6": "9781596064850",
                                    "7": "Brandon Sanderson",
                                    "8": "2012",
                                    "9": "Legion",
                                    "10": "Legion (Legion, #1)",
                                    "11": "eng",
                                    "12": "4.13",
                                    "13": "20291",
                                    "14": "24459",
                                    "15": "2235",
                                    "16": "147",
                                    "17": "605",
                                    "18": "4208",
                                    "19": "10448",
                                    "20": "9051",
                                    "21": "https://images.gr-assets.com/books/1338512017m/13452375.jpg",
                                    "22": "https://images.gr-assets.com/books/1338512017s/13452375.jpg"
                                },
                                {
                                    "0": "9164",
                                    "1": "20886354",
                                    "2": "20886354",
                                    "3": "40227944",
                                    "4": "21",
                                    "5": "NULL",
                                    "6": "NULL",
                                    "7": "Brandon Sanderson, Jon Foster",
                                    "8": "2014",
                                    "9": "Legion: Skin Deep",
                                    "10": "Skin Deep (Legion, #2)",
                                    "11": "eng",
                                    "12": "4.11",
                                    "13": "8317",
                                    "14": "11210",
                                    "15": "950",
                                    "16": "31",
                                    "17": "232",
                                    "18": "1988",
                                    "19": "5179",
                                    "20": "3780",
                                    "21": "https://images.gr-assets.com/books/1404932663m/20886354.jpg",
                                    "22": "https://images.gr-assets.com/books/1404932663s/20886354.jpg"
                                },
                                {
                                    "0": "8369",
                                    "1": "3130430",
                                    "2": "3130430",
                                    "3": "3161838",
                                    "4": "19",
                                    "5": "1416554955",
                                    "6": "9781416554950",
                                    "7": "Melissa Anelli, J.K. Rowling",
                                    "8": "2008",
                                    "9": "Harry, A History: The True Story of a Boy Wizard, His Fans, and Life Inside the Harry Potter Phenomenon",
                                    "10": "Harry, a History: The True Story of a Boy Wizard, His Fans, and Life Inside the Harry Potter Phenomenon",
                                    "11": "en-US",
                                    "12": "4.09",
                                    "13": "12308",
                                    "14": "12528",
                                    "15": "652",
                                    "16": "337",
                                    "17": "715",
                                    "18": "2386",
                                    "19": "3149",
                                    "20": "5941",
                                    "21": "https://s.gr-assets.com/assets/nophoto/book/111x148-bcc042a9c91a29c1d680899eff700a03.png",
                                    "22": "https://s.gr-assets.com/assets/nophoto/book/50x75-a91bf249278a81aabab721ef782c4a74.png"
                                },
                                {
                                    "0": "399",
                                    "1": "3950967",
                                    "2": "3950967",
                                    "3": "3007490",
                                    "4": "131",
                                    "5": "747599874",
                                    "6": "9780747599880",
                                    "7": "J.K. Rowling",
                                    "8": "2007",
                                    "9": "The Tales of Beedle the Bard",
                                    "10": "The Tales of Beedle the Bard",
                                    "11": "en-US",
                                    "12": "4.06",
                                    "13": "284833",
                                    "14": "319107",
                                    "15": "11330",
                                    "16": "3019",
                                    "17": "15025",
                                    "18": "69367",
                                    "19": "103350",
                                    "20": "128346",
                                    "21": "https://images.gr-assets.com/books/1373467575m/3950967.jpg",
                                    "22": "https://images.gr-assets.com/books/1373467575s/3950967.jpg"
                                },
                                {
                                    "0": "695",
                                    "1": "18214414",
                                    "2": "18214414",
                                    "3": "25639104",
                                    "4": "109",
                                    "5": "316206873",
                                    "6": "9780316206880",
                                    "7": "Robert Galbraith, J.K. Rowling",
                                    "8": "2014",
                                    "9": "The Silkworm",
                                    "10": "The Silkworm (Cormoran Strike, #2)",
                                    "11": "eng",
                                    "12": "4.03",
                                    "13": "120008",
                                    "14": "145146",
                                    "15": "13549",
                                    "16": "1330",
                                    "17": "4361",
                                    "18": "27130",
                                    "19": "67680",
                                    "20": "44645",
                                    "21": "https://images.gr-assets.com/books/1392577290m/18214414.jpg",
                                    "22": "https://images.gr-assets.com/books/1392577290s/18214414.jpg"
                                },
                                {
                                    "0": "469",
                                    "1": "41899",
                                    "2": "41899",
                                    "3": "4195128",
                                    "4": "123",
                                    "5": "439321603",
                                    "6": "9780439321600",
                                    "7": "Newt Scamander, J.K. Rowling, Albus Dumbledore",
                                    "8": "2001",
                                    "9": "Fantastic Beasts and Where to Find Them",
                                    "10": "Fantastic Beasts and Where to Find Them",
                                    "11": "eng",
                                    "12": "3.95",
                                    "13": "185928",
                                    "14": "209465",
                                    "15": "6523",
                                    "16": "2847",
                                    "17": "13155",
                                    "18": "52573",
                                    "19": "64027",
                                    "20": "76863",
                                    "21": "https://images.gr-assets.com/books/1303738520m/41899.jpg",
                                    "22": "https://images.gr-assets.com/books/1303738520s/41899.jpg"
                                },
                                {
                                    "0": "8373",
                                    "1": "623976",
                                    "2": "623976",
                                    "3": "2591148",
                                    "4": "34",
                                    "5": "439925509",
                                    "6": "9780439925500",
                                    "7": "Brandon Sanderson",
                                    "8": "2007",
                                    "9": "Alcatraz Versus the Evil Librarians",
                                    "10": "Alcatraz Versus the Evil Librarians (Alcatraz, #1)",
                                    "11": "eng",
                                    "12": "3.87",
                                    "13": "13474",
                                    "14": "15374",
                                    "15": "2393",
                                    "16": "328",
                                    "17": "937",
                                    "18": "3729",
                                    "19": "5745",
                                    "20": "4635",
                                    "21": "https://images.gr-assets.com/books/1332516621m/623976.jpg",
                                    "22": "https://images.gr-assets.com/books/1332516621s/623976.jpg"
                                },
                                {
                                    "0": "4745",
                                    "1": "18966322",
                                    "2": "18966322",
                                    "3": "26984416",
                                    "4": "22",
                                    "5": "449818438",
                                    "6": "9780449818440",
                                    "7": "Brandon Sanderson",
                                    "8": "2013",
                                    "9": "Mitosis",
                                    "10": "Mitosis (The Reckoners, #1.5)",
                                    "11": "eng",
                                    "12": "3.87",
                                    "13": "17250",
                                    "14": "22181",
                                    "15": "1477",
                                    "16": "69",
                                    "17": "714",
                                    "18": "6245",
                                    "19": "10075",
                                    "20": "5078",
                                    "21": "https://images.gr-assets.com/books/1385570447m/18966322.jpg",
                                    "22": "https://images.gr-assets.com/books/1385570447s/18966322.jpg"
                                },
                                {
                                    "0": "1286",
                                    "1": "111450",
                                    "2": "111450",
                                    "3": "6247751",
                                    "4": "103",
                                    "5": "439321611",
                                    "6": "9780439321620",
                                    "7": "Kennilworthy Whisp, J.K. Rowling",
                                    "8": "2001",
                                    "9": "Quidditch Through the Ages",
                                    "10": "Quidditch Through the Ages",
                                    "11": "eng",
                                    "12": "3.85",
                                    "13": "90908",
                                    "14": "106088",
                                    "15": "3502",
                                    "16": "1367",
                                    "17": "8104",
                                    "18": "29884",
                                    "19": "32041",
                                    "20": "34692",
                                    "21": "https://images.gr-assets.com/books/1369689506m/111450.jpg",
                                    "22": "https://images.gr-assets.com/books/1369689506s/111450.jpg"
                                },
                                {
                                    "0": "253",
                                    "1": "16160797",
                                    "2": "16160797",
                                    "3": "22002305",
                                    "4": "48",
                                    "5": "316206849",
                                    "6": "9780316206850",
                                    "7": "Robert Galbraith, J.K. Rowling",
                                    "8": "2013",
                                    "9": "The Cuckoo's Calling",
                                    "10": "The Cuckoo's Calling (Cormoran Strike, #1)",
                                    "11": "en-US",
                                    "12": "3.83",
                                    "13": "297712",
                                    "14": "340495",
                                    "15": "27258",
                                    "16": "9729",
                                    "17": "20151",
                                    "18": "79290",
                                    "19": "138955",
                                    "20": "92370",
                                    "21": "https://images.gr-assets.com/books/1358716559m/16160797.jpg",
                                    "22": "https://images.gr-assets.com/books/1358716559s/16160797.jpg"
                                },
                                {
                                    "0": "279",
                                    "1": "29056083",
                                    "2": "29056083",
                                    "3": "48765776",
                                    "4": "95",
                                    "5": "751565350",
                                    "6": "9780751565360",
                                    "7": "John Tiffany, Jack Thorne, J.K. Rowling",
                                    "8": "2016",
                                    "9": "Harry Potter and the Cursed Child, Parts One and Two",
                                    "10": "Harry Potter and the Cursed Child - Parts One and Two (Harry Potter, #8)",
                                    "11": "eng",
                                    "12": "3.75",
                                    "13": "270603",
                                    "14": "397773",
                                    "15": "53365",
                                    "16": "15828",
                                    "17": "35842",
                                    "18": "96395",
                                    "19": "133156",
                                    "20": "116552",
                                    "21": "https://images.gr-assets.com/books/1470082995m/29056083.jpg",
                                    "22": "https://images.gr-assets.com/books/1470082995s/29056083.jpg"
                                },
                                {
                                    "0": "342",
                                    "1": "13497818",
                                    "2": "13497818",
                                    "3": "19926990",
                                    "4": "139",
                                    "5": "316228532",
                                    "6": "9780316228530",
                                    "7": "J.K. Rowling",
                                    "8": "2012",
                                    "9": "The Casual Vacancy",
                                    "10": "The Casual Vacancy",
                                    "11": "eng",
                                    "12": "3.28",
                                    "13": "231835",
                                    "14": "254461",
                                    "15": "28751",
                                    "16": "24583",
                                    "17": "38326",
                                    "18": "74611",
                                    "19": "75741",
                                    "20": "41200",
                                    "21": "https://images.gr-assets.com/books/1358266832m/13497818.jpg",
                                    "22": "https://images.gr-assets.com/books/1358266832s/13497818.jpg"
                                }
                            ]
                        },
                        "text/html": [
                            "<table>",
                            "<tr><th>id</th><th>book_id</th><th>best_book_id</th><th>work_id</th><th>books_count</th><th>isbn</th><th>isbn13</th><th>authors</th><th>original_publication_year</th><th>original_title</th><th>title</th><th>language_code</th><th>average_rating</th><th>ratings_count</th><th>work_ratings_count</th><th>work_text_reviews_count</th><th>ratings_1</th><th>ratings_2</th><th>ratings_3</th><th>ratings_4</th><th>ratings_5</th><th>image_url</th><th>small_image_url</th></tr>",
                            "<tr><td>862</td><td>17332218</td><td>17332218</td><td>16482835</td><td>34</td><td>765326361</td><td>9780765326360</td><td>Brandon Sanderson</td><td>2014</td><td>Words of Radiance</td><td>Words of Radiance (The Stormlight Archive, #2)</td><td>eng</td><td>4.77</td><td>73572</td><td>108176</td><td>7261</td><td>154</td><td>404</td><td>2653</td><td>18272</td><td>86693</td><td>https://images.gr-assets.com/books/1391535251m/17332218.jpg</td><td>https://images.gr-assets.com/books/1391535251s/17332218.jpg</td></tr>",
                            "<tr><td>3275</td><td>8</td><td>8</td><td>21457576</td><td>11</td><td>439682584</td><td>9780439682590</td><td>J.K. Rowling, Mary GrandPré</td><td>2003</td><td>NULL</td><td>Harry Potter Boxed Set, Books 1-5 (Harry Potter, #1-5)</td><td>eng</td><td>4.77</td><td>33220</td><td>33424</td><td>156</td><td>317</td><td>233</td><td>978</td><td>3686</td><td>28210</td><td>https://s.gr-assets.com/assets/nophoto/book/111x148-bcc042a9c91a29c1d680899eff700a03.png</td><td>https://s.gr-assets.com/assets/nophoto/book/50x75-a91bf249278a81aabab721ef782c4a74.png</td></tr>",
                            "<tr><td>422</td><td>862041</td><td>862041</td><td>2962492</td><td>76</td><td>545044251</td><td>9780545044260</td><td>J.K. Rowling</td><td>1998</td><td>Complete Harry Potter Boxed Set</td><td>Harry Potter Boxset (Harry Potter, #1-7)</td><td>eng</td><td>4.74</td><td>190050</td><td>204125</td><td>6508</td><td>1105</td><td>1285</td><td>7020</td><td>30666</td><td>164049</td><td>https://images.gr-assets.com/books/1392579059m/862041.jpg</td><td>https://images.gr-assets.com/books/1392579059s/862041.jpg</td></tr>",
                            "<tr><td>3753</td><td>10</td><td>10</td><td>21457570</td><td>6</td><td>439827604</td><td>9780439827610</td><td>J.K. Rowling</td><td>2005</td><td>Harry Potter Collection (Harry Potter, #1-6)</td><td>Harry Potter Collection (Harry Potter, #1-6)</td><td>eng</td><td>4.73</td><td>24618</td><td>26274</td><td>882</td><td>203</td><td>186</td><td>946</td><td>3891</td><td>21048</td><td>https://images.gr-assets.com/books/1328867351m/10.jpg</td><td>https://images.gr-assets.com/books/1328867351s/10.jpg</td></tr>",
                            "<tr><td>9141</td><td>9329354</td><td>9329354</td><td>27679568</td><td>19</td><td>575097361</td><td>9780575097360</td><td>Brandon Sanderson</td><td>2011</td><td>The Way of Kings, Part 1</td><td>The Way of Kings, Part 1 (The Stormlight Archive #1.1)</td><td>eng</td><td>4.67</td><td>9792</td><td>10117</td><td>453</td><td>40</td><td>93</td><td>408</td><td>2078</td><td>7498</td><td>https://images.gr-assets.com/books/1357609842m/9329354.jpg</td><td>https://images.gr-assets.com/books/1357609842s/9329354.jpg</td></tr>",
                            "<tr><td>2101</td><td>99298</td><td>99298</td><td>5994366</td><td>17</td><td>439249546</td><td>9780439249550</td><td>J.K. Rowling, Mary GrandPré</td><td>1999</td><td>Harry Potter Boxed Set Books 1-4</td><td>The Harry Potter Collection 1-4 (Harry Potter, #1-4)</td><td>eng</td><td>4.66</td><td>43929</td><td>44842</td><td>265</td><td>307</td><td>424</td><td>2346</td><td>8186</td><td>33579</td><td>https://s.gr-assets.com/assets/nophoto/book/111x148-bcc042a9c91a29c1d680899eff700a03.png</td><td>https://s.gr-assets.com/assets/nophoto/book/50x75-a91bf249278a81aabab721ef782c4a74.png</td></tr>",
                            "<tr><td>562</td><td>7235533</td><td>7235533</td><td>8134945</td><td>48</td><td>765326353</td><td>9780765326360</td><td>Brandon Sanderson</td><td>2010</td><td>The Way of Kings</td><td>The Way of Kings (The Stormlight Archive, #1)</td><td>eng</td><td>4.64</td><td>144822</td><td>164477</td><td>10947</td><td>1085</td><td>1827</td><td>7661</td><td>33962</td><td>119942</td><td>https://images.gr-assets.com/books/1388184640m/7235533.jpg</td><td>https://images.gr-assets.com/books/1388184640s/7235533.jpg</td></tr>",
                            "<tr><td>25</td><td>136251</td><td>136251</td><td>2963218</td><td>263</td><td>545010225</td><td>9780545010220</td><td>J.K. Rowling, Mary GrandPré</td><td>2007</td><td>Harry Potter and the Deathly Hallows</td><td>Harry Potter and the Deathly Hallows (Harry Potter, #7)</td><td>eng</td><td>4.61</td><td>1746574</td><td>1847395</td><td>51942</td><td>9363</td><td>22245</td><td>113646</td><td>383914</td><td>1318227</td><td>https://images.gr-assets.com/books/1474171184m/136251.jpg</td><td>https://images.gr-assets.com/books/1474171184s/136251.jpg</td></tr>",
                            "<tr><td>6141</td><td>1317181</td><td>1317181</td><td>19079807</td><td>8</td><td>185549664X</td><td>9781855496640</td><td>J.K. Rowling</td><td>2003</td><td>NULL</td><td>Harry Potter and the Order of the Phoenix (Harry Potter, #5, Part 1)</td><td>NULL</td><td>4.56</td><td>16249</td><td>16350</td><td>272</td><td>114</td><td>199</td><td>1182</td><td>3744</td><td>11111</td><td>https://s.gr-assets.com/assets/nophoto/book/111x148-bcc042a9c91a29c1d680899eff700a03.png</td><td>https://s.gr-assets.com/assets/nophoto/book/50x75-a91bf249278a81aabab721ef782c4a74.png</td></tr>",
                            "<tr><td>2889</td><td>6604209</td><td>6604209</td><td>6798109</td><td>15</td><td>076536543X</td><td>9780765365440</td><td>Brandon Sanderson</td><td>2009</td><td>Mistborn Trilogy Boxed Set</td><td>Mistborn Trilogy Boxed Set (Mistborn, #1-3)</td><td>en-US</td><td>4.55</td><td>22917</td><td>32376</td><td>982</td><td>130</td><td>425</td><td>2185</td><td>8517</td><td>21119</td><td>https://images.gr-assets.com/books/1257442247m/6604209.jpg</td><td>https://images.gr-assets.com/books/1257442247s/6604209.jpg</td></tr>",
                            "<tr><td>27</td><td>1</td><td>1</td><td>41335427</td><td>275</td><td>439785960</td><td>9780439785970</td><td>J.K. Rowling, Mary GrandPré</td><td>2005</td><td>Harry Potter and the Half-Blood Prince</td><td>Harry Potter and the Half-Blood Prince (Harry Potter, #6)</td><td>eng</td><td>4.54</td><td>1678823</td><td>1785676</td><td>27520</td><td>7308</td><td>21516</td><td>136333</td><td>459028</td><td>1161491</td><td>https://images.gr-assets.com/books/1361039191m/1.jpg</td><td>https://images.gr-assets.com/books/1361039191s/1.jpg</td></tr>",
                            "<tr><td>24</td><td>6</td><td>6</td><td>3046572</td><td>332</td><td>439139600</td><td>9780439139600</td><td>J.K. Rowling, Mary GrandPré</td><td>2000</td><td>Harry Potter and the Goblet of Fire</td><td>Harry Potter and the Goblet of Fire (Harry Potter, #4)</td><td>eng</td><td>4.53</td><td>1753043</td><td>1868642</td><td>31084</td><td>6676</td><td>20210</td><td>151785</td><td>494926</td><td>1195045</td><td>https://images.gr-assets.com/books/1361482611m/6.jpg</td><td>https://images.gr-assets.com/books/1361482611s/6.jpg</td></tr>",
                            "<tr><td>18</td><td>5</td><td>5</td><td>2402163</td><td>376</td><td>043965548X</td><td>9780439655480</td><td>J.K. Rowling, Mary GrandPré, Rufus Beck</td><td>1999</td><td>Harry Potter and the Prisoner of Azkaban</td><td>Harry Potter and the Prisoner of Azkaban (Harry Potter, #3)</td><td>eng</td><td>4.53</td><td>1832823</td><td>1969375</td><td>36099</td><td>6716</td><td>20413</td><td>166129</td><td>509447</td><td>1266670</td><td>https://images.gr-assets.com/books/1499277281m/5.jpg</td><td>https://images.gr-assets.com/books/1499277281s/5.jpg</td></tr>",
                            "<tr><td>1374</td><td>7743175</td><td>7743175</td><td>10558806</td><td>33</td><td>765325950</td><td>9780765325950</td><td>Robert Jordan, Brandon Sanderson</td><td>2012</td><td>A Memory of Light</td><td>A Memory of Light (Wheel of Time, #14)</td><td>eng</td><td>4.5</td><td>68410</td><td>75741</td><td>4883</td><td>635</td><td>1293</td><td>5973</td><td>19274</td><td>48566</td><td>https://images.gr-assets.com/books/1336055749m/7743175.jpg</td><td>https://images.gr-assets.com/books/1336055749s/7743175.jpg</td></tr>",
                            "<tr><td>603</td><td>2767793</td><td>2767793</td><td>2793516</td><td>63</td><td>765316897</td><td>9780765316900</td><td>Brandon Sanderson</td><td>2008</td><td>The Hero of Ages</td><td>The Hero of Ages (Mistborn, #3)</td><td>eng</td><td>4.46</td><td>143622</td><td>161085</td><td>9111</td><td>596</td><td>2257</td><td>14291</td><td>49628</td><td>94313</td><td>https://images.gr-assets.com/books/1480717763m/2767793.jpg</td><td>https://images.gr-assets.com/books/1480717763s/2767793.jpg</td></tr>",
                            "<tr><td>21</td><td>2</td><td>2</td><td>2809203</td><td>307</td><td>439358078</td><td>9780439358070</td><td>J.K. Rowling, Mary GrandPré</td><td>2003</td><td>Harry Potter and the Order of the Phoenix</td><td>Harry Potter and the Order of the Phoenix (Harry Potter, #5)</td><td>eng</td><td>4.46</td><td>1735368</td><td>1840548</td><td>28685</td><td>9528</td><td>31577</td><td>180210</td><td>494427</td><td>1124806</td><td>https://images.gr-assets.com/books/1387141547m/2.jpg</td><td>https://images.gr-assets.com/books/1387141547s/2.jpg</td></tr>",
                            "<tr><td>3341</td><td>18739426</td><td>18739426</td><td>26616838</td><td>21</td><td>NULL</td><td>NULL</td><td>Brandon Sanderson</td><td>2016</td><td>The Bands of Mourning</td><td>The Bands of Mourning (Mistborn, #6)</td><td>eng</td><td>4.45</td><td>28866</td><td>33232</td><td>2379</td><td>42</td><td>249</td><td>2519</td><td>12186</td><td>18236</td><td>https://images.gr-assets.com/books/1450134973m/18739426.jpg</td><td>https://images.gr-assets.com/books/1450134973s/18739426.jpg</td></tr>",
                            "<tr><td>2</td><td>3</td><td>3</td><td>4640799</td><td>491</td><td>439554934</td><td>9780439554930</td><td>J.K. Rowling, Mary GrandPré</td><td>1997</td><td>Harry Potter and the Philosopher's Stone</td><td>Harry Potter and the Sorcerer's Stone (Harry Potter, #1)</td><td>eng</td><td>4.44</td><td>4602479</td><td>4800065</td><td>75867</td><td>75504</td><td>101676</td><td>455024</td><td>1156318</td><td>3011543</td><td>https://images.gr-assets.com/books/1474154022m/3.jpg</td><td>https://images.gr-assets.com/books/1474154022s/3.jpg</td></tr>",
                            "<tr><td>389</td><td>68428</td><td>68428</td><td>66322</td><td>75</td><td>076531178X</td><td>9780765311790</td><td>Brandon Sanderson</td><td>2006</td><td>Mistborn : The Final Empire</td><td>The Final Empire (Mistborn, #1)</td><td>eng</td><td>4.43</td><td>208944</td><td>238993</td><td>16276</td><td>1783</td><td>4008</td><td>20554</td><td>76611</td><td>136037</td><td>https://images.gr-assets.com/books/1480717416m/68428.jpg</td><td>https://images.gr-assets.com/books/1480717416s/68428.jpg</td></tr>",
                            "<tr><td>988</td><td>8253920</td><td>8253920</td><td>7338128</td><td>39</td><td>765325942</td><td>9780765325940</td><td>Robert Jordan, Brandon Sanderson</td><td>2010</td><td>Towers of Midnight</td><td>Towers of Midnight (Wheel of Time, #13)</td><td>en-US</td><td>4.42</td><td>91383</td><td>98092</td><td>2356</td><td>877</td><td>1704</td><td>9062</td><td>30593</td><td>55856</td><td>https://images.gr-assets.com/books/1358109459m/8253920.jpg</td><td>https://images.gr-assets.com/books/1358109459s/8253920.jpg</td></tr>",
                            "<tr><td>4641</td><td>30065028</td><td>29363501</td><td>50435175</td><td>49</td><td>NULL</td><td>NULL</td><td>J.K. Rowling</td><td>2016</td><td>Fantastic Beasts and Where to Find Them: The Original Screenplay</td><td>Fantastic Beasts and Where to Find Them: The Original Screenplay</td><td>eng</td><td>4.41</td><td>18290</td><td>42210</td><td>4692</td><td>323</td><td>721</td><td>4257</td><td>13024</td><td>23885</td><td>https://images.gr-assets.com/books/1476913365m/30065028.jpg</td><td>https://images.gr-assets.com/books/1476913365s/30065028.jpg</td></tr>",
                            "<tr><td>9048</td><td>2002</td><td>2002</td><td>8621948</td><td>5</td><td>043932162X</td><td>9780439321620</td><td>J.K. Rowling</td><td>2001</td><td>NULL</td><td>Harry Potter Schoolbooks Box Set: Two Classic Books from the Library of Hogwarts School of Witchcraft and Wizardry</td><td>eng</td><td>4.4</td><td>10736</td><td>11732</td><td>185</td><td>106</td><td>304</td><td>1548</td><td>2595</td><td>7179</td><td>https://images.gr-assets.com/books/1479775271m/2002.jpg</td><td>https://images.gr-assets.com/books/1479775271s/2002.jpg</td></tr>",
                            "<tr><td>7993</td><td>28698036</td><td>28698036</td><td>48896020</td><td>5</td><td>NULL</td><td>NULL</td><td>Brandon Sanderson</td><td>2016</td><td>Mistborn: Secret History</td><td>Secret History (Mistborn, #3.5)</td><td>eng</td><td>4.38</td><td>12796</td><td>13424</td><td>1081</td><td>30</td><td>191</td><td>1573</td><td>4535</td><td>7095</td><td>https://s.gr-assets.com/assets/nophoto/book/111x148-bcc042a9c91a29c1d680899eff700a03.png</td><td>https://s.gr-assets.com/assets/nophoto/book/50x75-a91bf249278a81aabab721ef782c4a74.png</td></tr>",
                            "<tr><td>23</td><td>15881</td><td>15881</td><td>6231171</td><td>398</td><td>439064864</td><td>9780439064870</td><td>J.K. Rowling, Mary GrandPré</td><td>1998</td><td>Harry Potter and the Chamber of Secrets</td><td>Harry Potter and the Chamber of Secrets (Harry Potter, #2)</td><td>eng</td><td>4.37</td><td>1779331</td><td>1906199</td><td>34172</td><td>8253</td><td>42251</td><td>242345</td><td>548266</td><td>1065084</td><td>https://images.gr-assets.com/books/1474169725m/15881.jpg</td><td>https://images.gr-assets.com/books/1474169725s/15881.jpg</td></tr>",
                            "<tr><td>565</td><td>68429</td><td>68429</td><td>2120474</td><td>60</td><td>765316889</td><td>9780765316880</td><td>Brandon Sanderson</td><td>2007</td><td>NULL</td><td>The Well of Ascension (Mistborn, #2)</td><td>eng</td><td>4.35</td><td>150736</td><td>171402</td><td>8541</td><td>534</td><td>2630</td><td>18661</td><td>63880</td><td>85697</td><td>https://images.gr-assets.com/books/1480717596m/68429.jpg</td><td>https://images.gr-assets.com/books/1480717596s/68429.jpg</td></tr>",
                            "<tr><td>960</td><td>1166599</td><td>1166599</td><td>1920889</td><td>2</td><td>765302306</td><td>9780765302300</td><td>Robert Jordan, Brandon Sanderson</td><td>2009</td><td>The Gathering Storm</td><td>The Gathering Storm (Wheel of Time, #12)</td><td>eng</td><td>4.34</td><td>94095</td><td>100343</td><td>2582</td><td>1146</td><td>2178</td><td>10877</td><td>32914</td><td>53228</td><td>https://s.gr-assets.com/assets/nophoto/book/111x148-bcc042a9c91a29c1d680899eff700a03.png</td><td>https://s.gr-assets.com/assets/nophoto/book/50x75-a91bf249278a81aabab721ef782c4a74.png</td></tr>",
                            "<tr><td>2978</td><td>13578175</td><td>13578175</td><td>19161502</td><td>20</td><td>1616960922</td><td>9781616960930</td><td>Brandon Sanderson</td><td>2012</td><td>The Emperor's Soul</td><td>The Emperor's Soul</td><td>eng</td><td>4.33</td><td>33634</td><td>39282</td><td>2989</td><td>84</td><td>477</td><td>4536</td><td>15386</td><td>18799</td><td>https://images.gr-assets.com/books/1343059311m/13578175.jpg</td><td>https://images.gr-assets.com/books/1343059311s/13578175.jpg</td></tr>",
                            "<tr><td>2792</td><td>16065004</td><td>16065004</td><td>21855448</td><td>25</td><td>765378558</td><td>9780765378550</td><td>Brandon Sanderson</td><td>2015</td><td>Shadows of Self</td><td>Shadows of Self (Mistborn, #5)</td><td>eng</td><td>4.3</td><td>32170</td><td>40479</td><td>2804</td><td>85</td><td>469</td><td>4687</td><td>17295</td><td>17943</td><td>https://images.gr-assets.com/books/1435053013m/16065004.jpg</td><td>https://images.gr-assets.com/books/1435053013s/16065004.jpg</td></tr>",
                            "<tr><td>2118</td><td>15704459</td><td>15704459</td><td>21979689</td><td>51</td><td>385743580</td><td>9780385743590</td><td>Brandon Sanderson</td><td>2015</td><td>Firefight</td><td>Firefight (The Reckoners, #2)</td><td>eng</td><td>4.29</td><td>41924</td><td>50765</td><td>4426</td><td>95</td><td>622</td><td>6180</td><td>21247</td><td>22621</td><td>https://images.gr-assets.com/books/1413220816m/15704459.jpg</td><td>https://images.gr-assets.com/books/1413220816s/15704459.jpg</td></tr>",
                            "<tr><td>7929</td><td>23731881</td><td>23731881</td><td>43264515</td><td>6</td><td>316369152</td><td>9780316369150</td><td>J.K. Rowling, Joel Holland</td><td>2015</td><td>Very Good Lives: The Fringe Benefits of Failure and the Importance of Imagination</td><td>Very Good Lives: The Fringe Benefits of Failure and the Importance of Imagination</td><td>eng</td><td>4.26</td><td>12510</td><td>13494</td><td>1838</td><td>312</td><td>408</td><td>1755</td><td>3965</td><td>7054</td><td>https://images.gr-assets.com/books/1418419116m/23731881.jpg</td><td>https://images.gr-assets.com/books/1418419116s/23731881.jpg</td></tr>",
                            "<tr><td>3147</td><td>22443261</td><td>22443261</td><td>15035866</td><td>38</td><td>NULL</td><td>NULL</td><td>Brandon Sanderson</td><td>2013</td><td>The Rithmatist </td><td>The Rithmatist (The Rithmatist, #1)</td><td>eng</td><td>4.25</td><td>15977</td><td>36047</td><td>4864</td><td>156</td><td>652</td><td>4730</td><td>15170</td><td>15339</td><td>https://s.gr-assets.com/assets/nophoto/book/111x148-bcc042a9c91a29c1d680899eff700a03.png</td><td>https://s.gr-assets.com/assets/nophoto/book/50x75-a91bf249278a81aabab721ef782c4a74.png</td></tr>",
                            "<tr><td>1665</td><td>1268479</td><td>1268479</td><td>1257385</td><td>41</td><td>NULL</td><td>NULL</td><td>Brandon Sanderson</td><td>2009</td><td>Warbreaker</td><td>Warbreaker (Warbreaker, #1)</td><td>eng</td><td>4.22</td><td>55948</td><td>65488</td><td>4548</td><td>322</td><td>1337</td><td>9533</td><td>26899</td><td>27397</td><td>https://s.gr-assets.com/assets/nophoto/book/111x148-bcc042a9c91a29c1d680899eff700a03.png</td><td>https://s.gr-assets.com/assets/nophoto/book/50x75-a91bf249278a81aabab721ef782c4a74.png</td></tr>",
                            "<tr><td>6428</td><td>31538635</td><td>31538635</td><td>52885176</td><td>18</td><td>1781106282</td><td>9781781106280</td><td>J.K. Rowling, MinaLima</td><td>2016</td><td>Short Stories from Hogwarts of Heroism, Hardship and Dangerous Hobbies</td><td>Short Stories from Hogwarts of Heroism, Hardship and Dangerous Hobbies (Pottermore Presents, #1)</td><td>eng</td><td>4.22</td><td>16285</td><td>24805</td><td>1743</td><td>636</td><td>713</td><td>3498</td><td>7555</td><td>12403</td><td>https://images.gr-assets.com/books/1471436733m/31538635.jpg</td><td>https://images.gr-assets.com/books/1471436733s/31538635.jpg</td></tr>",
                            "<tr><td>7523</td><td>31538647</td><td>31538647</td><td>52218770</td><td>18</td><td>NULL</td><td>NULL</td><td>J.K. Rowling</td><td>2016</td><td>Hogwarts: An Incomplete and Unreliable Guide</td><td>Hogwarts: An Incomplete and Unreliable Guide (Pottermore Presents, #3)</td><td>eng</td><td>4.21</td><td>14977</td><td>15844</td><td>1339</td><td>63</td><td>346</td><td>2806</td><td>5543</td><td>7086</td><td>https://images.gr-assets.com/books/1502156557m/31538647.jpg</td><td>https://images.gr-assets.com/books/1502156557s/31538647.jpg</td></tr>",
                            "<tr><td>1065</td><td>25735012</td><td>25735012</td><td>43699375</td><td>83</td><td>316349933</td><td>9780316349930</td><td>Robert Galbraith, J.K. Rowling</td><td>2015</td><td>Career of Evil</td><td>Career of Evil (Cormoran Strike, #3)</td><td>eng</td><td>4.21</td><td>66979</td><td>95274</td><td>10254</td><td>550</td><td>1926</td><td>12591</td><td>42325</td><td>37882</td><td>https://s.gr-assets.com/assets/nophoto/book/111x148-bcc042a9c91a29c1d680899eff700a03.png</td><td>https://s.gr-assets.com/assets/nophoto/book/50x75-a91bf249278a81aabab721ef782c4a74.png</td></tr>",
                            "<tr><td>1200</td><td>10803121</td><td>10803121</td><td>15035863</td><td>45</td><td>765330423</td><td>9780765330420</td><td>Brandon Sanderson</td><td>2011</td><td>The Alloy of Law</td><td>The Alloy of Law (Mistborn, #4)</td><td>eng</td><td>4.2</td><td>72185</td><td>84897</td><td>5303</td><td>271</td><td>1652</td><td>12408</td><td>36754</td><td>33812</td><td>https://s.gr-assets.com/assets/nophoto/book/111x148-bcc042a9c91a29c1d680899eff700a03.png</td><td>https://s.gr-assets.com/assets/nophoto/book/50x75-a91bf249278a81aabab721ef782c4a74.png</td></tr>",
                            "<tr><td>3249</td><td>15704486</td><td>15704486</td><td>21366542</td><td>35</td><td>385743602</td><td>9780385743600</td><td>Brandon Sanderson</td><td>2016</td><td>Calamity</td><td>Calamity (The Reckoners, #3)</td><td>eng</td><td>4.2</td><td>27146</td><td>33909</td><td>3310</td><td>93</td><td>680</td><td>5383</td><td>14098</td><td>13655</td><td>https://images.gr-assets.com/books/1437098338m/15704486.jpg</td><td>https://images.gr-assets.com/books/1437098338s/15704486.jpg</td></tr>",
                            "<tr><td>7443</td><td>31538614</td><td>31538614</td><td>52218734</td><td>18</td><td>1781106290</td><td>9781781106300</td><td>J.K. Rowling, MinaLima</td><td>2016</td><td>Short Stories from Hogwarts of Power, Politics and Pesky Poltergeists</td><td>Short Stories from Hogwarts of Power, Politics and Pesky Poltergeists (Pottermore Presents, #2)</td><td>eng</td><td>4.2</td><td>10032</td><td>15880</td><td>1246</td><td>62</td><td>376</td><td>2872</td><td>5600</td><td>6970</td><td>https://images.gr-assets.com/books/1471436601m/31538614.jpg</td><td>https://images.gr-assets.com/books/1471436601s/31538614.jpg</td></tr>",
                            "<tr><td>1049</td><td>68427</td><td>68427</td><td>2908871</td><td>60</td><td>765350378</td><td>9780765350370</td><td>Brandon Sanderson</td><td>2005</td><td>Elantris</td><td>Elantris (Elantris, #1)</td><td>eng</td><td>4.17</td><td>95950</td><td>105780</td><td>6438</td><td>1311</td><td>2974</td><td>16025</td><td>41443</td><td>44027</td><td>https://images.gr-assets.com/books/1475740953m/68427.jpg</td><td>https://images.gr-assets.com/books/1475740953s/68427.jpg</td></tr>",
                            "<tr><td>970</td><td>17182126</td><td>17182126</td><td>21366540</td><td>64</td><td>385743564</td><td>9780385743560</td><td>Brandon Sanderson</td><td>2013</td><td>Steelheart</td><td>Steelheart (The Reckoners, #1)</td><td>eng</td><td>4.16</td><td>76261</td><td>102116</td><td>10160</td><td>1300</td><td>3063</td><td>15596</td><td>40585</td><td>41572</td><td>https://images.gr-assets.com/books/1357576738m/17182126.jpg</td><td>https://images.gr-assets.com/books/1357576738s/17182126.jpg</td></tr>",
                            "<tr><td>4488</td><td>13452375</td><td>13452375</td><td>18978261</td><td>24</td><td>1596064854</td><td>9781596064850</td><td>Brandon Sanderson</td><td>2012</td><td>Legion</td><td>Legion (Legion, #1)</td><td>eng</td><td>4.13</td><td>20291</td><td>24459</td><td>2235</td><td>147</td><td>605</td><td>4208</td><td>10448</td><td>9051</td><td>https://images.gr-assets.com/books/1338512017m/13452375.jpg</td><td>https://images.gr-assets.com/books/1338512017s/13452375.jpg</td></tr>",
                            "<tr><td>9164</td><td>20886354</td><td>20886354</td><td>40227944</td><td>21</td><td>NULL</td><td>NULL</td><td>Brandon Sanderson, Jon Foster</td><td>2014</td><td>Legion: Skin Deep</td><td>Skin Deep (Legion, #2)</td><td>eng</td><td>4.11</td><td>8317</td><td>11210</td><td>950</td><td>31</td><td>232</td><td>1988</td><td>5179</td><td>3780</td><td>https://images.gr-assets.com/books/1404932663m/20886354.jpg</td><td>https://images.gr-assets.com/books/1404932663s/20886354.jpg</td></tr>",
                            "<tr><td>8369</td><td>3130430</td><td>3130430</td><td>3161838</td><td>19</td><td>1416554955</td><td>9781416554950</td><td>Melissa Anelli, J.K. Rowling</td><td>2008</td><td>Harry, A History: The True Story of a Boy Wizard, His Fans, and Life Inside the Harry Potter Phenomenon</td><td>Harry, a History: The True Story of a Boy Wizard, His Fans, and Life Inside the Harry Potter Phenomenon</td><td>en-US</td><td>4.09</td><td>12308</td><td>12528</td><td>652</td><td>337</td><td>715</td><td>2386</td><td>3149</td><td>5941</td><td>https://s.gr-assets.com/assets/nophoto/book/111x148-bcc042a9c91a29c1d680899eff700a03.png</td><td>https://s.gr-assets.com/assets/nophoto/book/50x75-a91bf249278a81aabab721ef782c4a74.png</td></tr>",
                            "<tr><td>399</td><td>3950967</td><td>3950967</td><td>3007490</td><td>131</td><td>747599874</td><td>9780747599880</td><td>J.K. Rowling</td><td>2007</td><td>The Tales of Beedle the Bard</td><td>The Tales of Beedle the Bard</td><td>en-US</td><td>4.06</td><td>284833</td><td>319107</td><td>11330</td><td>3019</td><td>15025</td><td>69367</td><td>103350</td><td>128346</td><td>https://images.gr-assets.com/books/1373467575m/3950967.jpg</td><td>https://images.gr-assets.com/books/1373467575s/3950967.jpg</td></tr>",
                            "<tr><td>695</td><td>18214414</td><td>18214414</td><td>25639104</td><td>109</td><td>316206873</td><td>9780316206880</td><td>Robert Galbraith, J.K. Rowling</td><td>2014</td><td>The Silkworm</td><td>The Silkworm (Cormoran Strike, #2)</td><td>eng</td><td>4.03</td><td>120008</td><td>145146</td><td>13549</td><td>1330</td><td>4361</td><td>27130</td><td>67680</td><td>44645</td><td>https://images.gr-assets.com/books/1392577290m/18214414.jpg</td><td>https://images.gr-assets.com/books/1392577290s/18214414.jpg</td></tr>",
                            "<tr><td>469</td><td>41899</td><td>41899</td><td>4195128</td><td>123</td><td>439321603</td><td>9780439321600</td><td>Newt Scamander, J.K. Rowling, Albus Dumbledore</td><td>2001</td><td>Fantastic Beasts and Where to Find Them</td><td>Fantastic Beasts and Where to Find Them</td><td>eng</td><td>3.95</td><td>185928</td><td>209465</td><td>6523</td><td>2847</td><td>13155</td><td>52573</td><td>64027</td><td>76863</td><td>https://images.gr-assets.com/books/1303738520m/41899.jpg</td><td>https://images.gr-assets.com/books/1303738520s/41899.jpg</td></tr>",
                            "<tr><td>8373</td><td>623976</td><td>623976</td><td>2591148</td><td>34</td><td>439925509</td><td>9780439925500</td><td>Brandon Sanderson</td><td>2007</td><td>Alcatraz Versus the Evil Librarians</td><td>Alcatraz Versus the Evil Librarians (Alcatraz, #1)</td><td>eng</td><td>3.87</td><td>13474</td><td>15374</td><td>2393</td><td>328</td><td>937</td><td>3729</td><td>5745</td><td>4635</td><td>https://images.gr-assets.com/books/1332516621m/623976.jpg</td><td>https://images.gr-assets.com/books/1332516621s/623976.jpg</td></tr>",
                            "<tr><td>4745</td><td>18966322</td><td>18966322</td><td>26984416</td><td>22</td><td>449818438</td><td>9780449818440</td><td>Brandon Sanderson</td><td>2013</td><td>Mitosis</td><td>Mitosis (The Reckoners, #1.5)</td><td>eng</td><td>3.87</td><td>17250</td><td>22181</td><td>1477</td><td>69</td><td>714</td><td>6245</td><td>10075</td><td>5078</td><td>https://images.gr-assets.com/books/1385570447m/18966322.jpg</td><td>https://images.gr-assets.com/books/1385570447s/18966322.jpg</td></tr>",
                            "<tr><td>1286</td><td>111450</td><td>111450</td><td>6247751</td><td>103</td><td>439321611</td><td>9780439321620</td><td>Kennilworthy Whisp, J.K. Rowling</td><td>2001</td><td>Quidditch Through the Ages</td><td>Quidditch Through the Ages</td><td>eng</td><td>3.85</td><td>90908</td><td>106088</td><td>3502</td><td>1367</td><td>8104</td><td>29884</td><td>32041</td><td>34692</td><td>https://images.gr-assets.com/books/1369689506m/111450.jpg</td><td>https://images.gr-assets.com/books/1369689506s/111450.jpg</td></tr>",
                            "<tr><td>253</td><td>16160797</td><td>16160797</td><td>22002305</td><td>48</td><td>316206849</td><td>9780316206850</td><td>Robert Galbraith, J.K. Rowling</td><td>2013</td><td>The Cuckoo's Calling</td><td>The Cuckoo's Calling (Cormoran Strike, #1)</td><td>en-US</td><td>3.83</td><td>297712</td><td>340495</td><td>27258</td><td>9729</td><td>20151</td><td>79290</td><td>138955</td><td>92370</td><td>https://images.gr-assets.com/books/1358716559m/16160797.jpg</td><td>https://images.gr-assets.com/books/1358716559s/16160797.jpg</td></tr>",
                            "<tr><td>279</td><td>29056083</td><td>29056083</td><td>48765776</td><td>95</td><td>751565350</td><td>9780751565360</td><td>John Tiffany, Jack Thorne, J.K. Rowling</td><td>2016</td><td>Harry Potter and the Cursed Child, Parts One and Two</td><td>Harry Potter and the Cursed Child - Parts One and Two (Harry Potter, #8)</td><td>eng</td><td>3.75</td><td>270603</td><td>397773</td><td>53365</td><td>15828</td><td>35842</td><td>96395</td><td>133156</td><td>116552</td><td>https://images.gr-assets.com/books/1470082995m/29056083.jpg</td><td>https://images.gr-assets.com/books/1470082995s/29056083.jpg</td></tr>",
                            "<tr><td>342</td><td>13497818</td><td>13497818</td><td>19926990</td><td>139</td><td>316228532</td><td>9780316228530</td><td>J.K. Rowling</td><td>2012</td><td>The Casual Vacancy</td><td>The Casual Vacancy</td><td>eng</td><td>3.28</td><td>231835</td><td>254461</td><td>28751</td><td>24583</td><td>38326</td><td>74611</td><td>75741</td><td>41200</td><td>https://images.gr-assets.com/books/1358266832m/13497818.jpg</td><td>https://images.gr-assets.com/books/1358266832s/13497818.jpg</td></tr>",
                            "</table>"
                        ]
                    }
                }
            ],
            "execution_count": 47
        },
        {
            "cell_type": "markdown",
            "source": [
                "Question 8: Take a close look at J.K. Rowling.  Is her top rated book on this list from question 1?  Why might this be? How could we account for this?\n",
                "\n",
                "> Yes, but only after I used the wildcard on either side of the authors to include books they co-authored."
            ],
            "metadata": {
                "azdata_cell_guid": "db907c70-0bbd-4121-ac91-ae814f703243"
            },
            "attachments": {}
        },
        {
            "cell_type": "markdown",
            "source": [
                "Try updating your above query to include all of J.K. Rowling's books.\n",
                "\n",
                "Are there any other issues?\n",
                "\n",
                "> Already done."
            ],
            "metadata": {
                "azdata_cell_guid": "35ee4a48-8e84-4eb5-95ca-f5cdddc8d682"
            },
            "attachments": {}
        },
        {
            "cell_type": "code",
            "source": [
                "-- Try updating your above query to include all of J.K. Rowling's books\n",
                ""
            ],
            "metadata": {
                "azdata_cell_guid": "ce489012-fce9-435c-b570-7734223a0678",
                "tags": [],
                "language": "sql"
            },
            "outputs": [],
            "execution_count": null
        },
        {
            "cell_type": "markdown",
            "source": [
                "Question 9: Write a query that returns the number of Authors whose first name is between rock and roll."
            ],
            "metadata": {
                "azdata_cell_guid": "75bf5054-4918-4e9e-8e03-24a38ffab9cc"
            },
            "attachments": {}
        },
        {
            "cell_type": "code",
            "source": [
                "-- return number of authors whose first name is between rock and roll\n",
                "SELECT COUNT(authors)\n",
                "FROM BooksDB.dbo.books\n",
                "WHERE authors BETWEEN 'rock' AND 'roll'\n",
                ""
            ],
            "metadata": {
                "azdata_cell_guid": "491b2492-95d4-4078-b319-386b0c5592ec",
                "language": "sql"
            },
            "outputs": [
                {
                    "output_type": "display_data",
                    "data": {
                        "text/html": "(1 row affected)"
                    },
                    "metadata": {}
                },
                {
                    "output_type": "display_data",
                    "data": {
                        "text/html": "Total execution time: 00:00:00.078"
                    },
                    "metadata": {}
                },
                {
                    "output_type": "execute_result",
                    "metadata": {},
                    "execution_count": 49,
                    "data": {
                        "application/vnd.dataresource+json": {
                            "schema": {
                                "fields": [
                                    {
                                        "name": "(No column name)"
                                    }
                                ]
                            },
                            "data": [
                                {
                                    "0": "25"
                                }
                            ]
                        },
                        "text/html": [
                            "<table>",
                            "<tr><th>(No column name)</th></tr>",
                            "<tr><td>25</td></tr>",
                            "</table>"
                        ]
                    }
                }
            ],
            "execution_count": 49
        },
        {
            "cell_type": "markdown",
            "source": [
                "## Part 2. Write your own question and write a query to answer it.\n",
                "\n",
                "Your Question:  What books are included from the BC era?"
            ],
            "metadata": {
                "azdata_cell_guid": "1ba1363a-4f02-4962-a95a-93b80c5926b1"
            },
            "attachments": {}
        },
        {
            "cell_type": "code",
            "source": [
                "-- Add your querry here\n",
                "SELECT title, authors, original_publication_year\n",
                "FROM BooksDB.dbo.books\n",
                "WHERE original_publication_year < 0\n",
                "ORDER BY original_publication_year, authors"
            ],
            "metadata": {
                "azdata_cell_guid": "607f1a61-b306-42bf-a20c-60ec3a6ba86a",
                "language": "sql"
            },
            "outputs": [
                {
                    "output_type": "display_data",
                    "data": {
                        "text/html": "(31 rows affected)"
                    },
                    "metadata": {}
                },
                {
                    "output_type": "display_data",
                    "data": {
                        "text/html": "Total execution time: 00:00:00.072"
                    },
                    "metadata": {}
                },
                {
                    "output_type": "execute_result",
                    "metadata": {},
                    "execution_count": 56,
                    "data": {
                        "application/vnd.dataresource+json": {
                            "schema": {
                                "fields": [
                                    {
                                        "name": "title"
                                    },
                                    {
                                        "name": "authors"
                                    },
                                    {
                                        "name": "original_publication_year"
                                    }
                                ]
                            },
                            "data": [
                                {
                                    "0": "The Epic of Gilgamesh",
                                    "1": "Anonymous, N.K. Sandars",
                                    "2": "-1750"
                                },
                                {
                                    "0": "The Iliad/The Odyssey",
                                    "1": "Homer, Robert Fagles, Bernard Knox",
                                    "2": "-762"
                                },
                                {
                                    "0": "The I Ching or Book of Changes",
                                    "1": "Anonymous, Richard Wilhelm, Cary F. Baynes, C.G. Jung",
                                    "2": "-750"
                                },
                                {
                                    "0": "The Iliad",
                                    "1": "Homer, Robert Fagles, Frédéric Mugler, Bernard Knox",
                                    "2": "-750"
                                },
                                {
                                    "0": "The Odyssey",
                                    "1": "Homer, Robert Fagles, E.V. Rieu, Frédéric Mugler, Bernard Knox",
                                    "2": "-720"
                                },
                                {
                                    "0": "Aesop's Fables",
                                    "1": "Aesop, Laura Harris, Laura Gibbs",
                                    "2": "-560"
                                },
                                {
                                    "0": "The Dhammapada",
                                    "1": "Anonymous, Ananda Maitreya, Thich Nhat Hanh, Balangoda Ananda Maitreya Maitreya",
                                    "2": "-500"
                                },
                                {
                                    "0": "The Upanishads: Translations from the Sanskrit",
                                    "1": "Anonymous, Juan Mascaró",
                                    "2": "-500"
                                },
                                {
                                    "0": "The Art of War",
                                    "1": "Sun Tzu, Thomas Cleary",
                                    "2": "-500"
                                },
                                {
                                    "0": "The Analects",
                                    "1": "Confucius, D.C. Lau",
                                    "2": "-476"
                                },
                                {
                                    "0": "Agamemnon (Oresteia, #1)",
                                    "1": "Aeschylus, Judith Affleck, Philip de May, Patricia E. Easterling, John     Harrison",
                                    "2": "-458"
                                },
                                {
                                    "0": "The Oresteia  (Ορέστεια, #1-3)",
                                    "1": "Aeschylus, Robert Fagles, William Bedell Stanford",
                                    "2": "-458"
                                },
                                {
                                    "0": "Antigone (The Theban Plays, #3)",
                                    "1": "Sophocles, J.E. Thomas",
                                    "2": "-441"
                                },
                                {
                                    "0": "The Histories",
                                    "1": "Herodotus, Aubrey de Sélincourt, John M. Marincola",
                                    "2": "-440"
                                },
                                {
                                    "0": "Medea",
                                    "1": "Euripides, Rex Warner",
                                    "2": "-431"
                                },
                                {
                                    "0": "Oedipus Rex  (The Theban Plays, #1)",
                                    "1": "Sophocles, J.E. Thomas",
                                    "2": "-430"
                                },
                                {
                                    "0": "Lysistrata",
                                    "1": "Aristophanes, Sarah Ruden",
                                    "2": "-411"
                                },
                                {
                                    "0": "History of the Peloponnesian War",
                                    "1": "Thucydides, Rex Warner, Moses I. Finley",
                                    "2": "-411"
                                },
                                {
                                    "0": "The Oedipus Cycle: Oedipus Rex/Oedipus at Colonus/Antigone (The Theban Plays, #1–3)",
                                    "1": "Sophocles, Dudley Fitts, Elena Bono, Robert Fitzgerald",
                                    "2": "-401"
                                },
                                {
                                    "0": "The Bhagavad Gita",
                                    "1": "Krishna-Dwaipayana Vyasa, Simon Brodbeck, Juan Mascaró",
                                    "2": "-400"
                                },
                                {
                                    "0": "The Trial and Death of Socrates",
                                    "1": "Plato, G.M.A. Grube, John M. Cooper",
                                    "2": "-400"
                                },
                                {
                                    "0": "Apology",
                                    "1": "Plato, James J. Helm",
                                    "2": "-390"
                                },
                                {
                                    "0": "The Symposium",
                                    "1": "Plato, Christopher Gill",
                                    "2": "-385"
                                },
                                {
                                    "0": "Five Dialogues: Euthyphro, Apology, Crito, Meno, Phaedo",
                                    "1": "Plato, G.M.A. Grube, John M. Cooper",
                                    "2": "-385"
                                },
                                {
                                    "0": "The Republic",
                                    "1": "Plato, Desmond Lee",
                                    "2": "-380"
                                },
                                {
                                    "0": "Politics",
                                    "1": "Aristotle",
                                    "2": "-350"
                                },
                                {
                                    "0": "The Nicomachean Ethics",
                                    "1": "Aristotle, J.A.K. Thomson, Jonathan Barnes, Hugh Tredennick",
                                    "2": "-350"
                                },
                                {
                                    "0": "Poetics",
                                    "1": "Aristotle, Malcolm Heath",
                                    "2": "-335"
                                },
                                {
                                    "0": "Metaphysics",
                                    "1": "Aristotle, Joe Sachs",
                                    "2": "-330"
                                },
                                {
                                    "0": "Tao Te Ching",
                                    "1": "Lao Tzu, Gia-Fu Feng, Jane English, Chungliang Al Huang, Rowena Pattee Kryder, Toinette Lippe",
                                    "2": "-300"
                                },
                                {
                                    "0": "The Aeneid",
                                    "1": "Virgil, Robert Fitzgerald",
                                    "2": "-17"
                                }
                            ]
                        },
                        "text/html": [
                            "<table>",
                            "<tr><th>title</th><th>authors</th><th>original_publication_year</th></tr>",
                            "<tr><td>The Epic of Gilgamesh</td><td>Anonymous, N.K. Sandars</td><td>-1750</td></tr>",
                            "<tr><td>The Iliad/The Odyssey</td><td>Homer, Robert Fagles, Bernard Knox</td><td>-762</td></tr>",
                            "<tr><td>The I Ching or Book of Changes</td><td>Anonymous, Richard Wilhelm, Cary F. Baynes, C.G. Jung</td><td>-750</td></tr>",
                            "<tr><td>The Iliad</td><td>Homer, Robert Fagles, Frédéric Mugler, Bernard Knox</td><td>-750</td></tr>",
                            "<tr><td>The Odyssey</td><td>Homer, Robert Fagles, E.V. Rieu, Frédéric Mugler, Bernard Knox</td><td>-720</td></tr>",
                            "<tr><td>Aesop's Fables</td><td>Aesop, Laura Harris, Laura Gibbs</td><td>-560</td></tr>",
                            "<tr><td>The Dhammapada</td><td>Anonymous, Ananda Maitreya, Thich Nhat Hanh, Balangoda Ananda Maitreya Maitreya</td><td>-500</td></tr>",
                            "<tr><td>The Upanishads: Translations from the Sanskrit</td><td>Anonymous, Juan Mascaró</td><td>-500</td></tr>",
                            "<tr><td>The Art of War</td><td>Sun Tzu, Thomas Cleary</td><td>-500</td></tr>",
                            "<tr><td>The Analects</td><td>Confucius, D.C. Lau</td><td>-476</td></tr>",
                            "<tr><td>Agamemnon (Oresteia, #1)</td><td>Aeschylus, Judith Affleck, Philip de May, Patricia E. Easterling, John     Harrison</td><td>-458</td></tr>",
                            "<tr><td>The Oresteia  (Ορέστεια, #1-3)</td><td>Aeschylus, Robert Fagles, William Bedell Stanford</td><td>-458</td></tr>",
                            "<tr><td>Antigone (The Theban Plays, #3)</td><td>Sophocles, J.E. Thomas</td><td>-441</td></tr>",
                            "<tr><td>The Histories</td><td>Herodotus, Aubrey de Sélincourt, John M. Marincola</td><td>-440</td></tr>",
                            "<tr><td>Medea</td><td>Euripides, Rex Warner</td><td>-431</td></tr>",
                            "<tr><td>Oedipus Rex  (The Theban Plays, #1)</td><td>Sophocles, J.E. Thomas</td><td>-430</td></tr>",
                            "<tr><td>Lysistrata</td><td>Aristophanes, Sarah Ruden</td><td>-411</td></tr>",
                            "<tr><td>History of the Peloponnesian War</td><td>Thucydides, Rex Warner, Moses I. Finley</td><td>-411</td></tr>",
                            "<tr><td>The Oedipus Cycle: Oedipus Rex/Oedipus at Colonus/Antigone (The Theban Plays, #1–3)</td><td>Sophocles, Dudley Fitts, Elena Bono, Robert Fitzgerald</td><td>-401</td></tr>",
                            "<tr><td>The Bhagavad Gita</td><td>Krishna-Dwaipayana Vyasa, Simon Brodbeck, Juan Mascaró</td><td>-400</td></tr>",
                            "<tr><td>The Trial and Death of Socrates</td><td>Plato, G.M.A. Grube, John M. Cooper</td><td>-400</td></tr>",
                            "<tr><td>Apology</td><td>Plato, James J. Helm</td><td>-390</td></tr>",
                            "<tr><td>The Symposium</td><td>Plato, Christopher Gill</td><td>-385</td></tr>",
                            "<tr><td>Five Dialogues: Euthyphro, Apology, Crito, Meno, Phaedo</td><td>Plato, G.M.A. Grube, John M. Cooper</td><td>-385</td></tr>",
                            "<tr><td>The Republic</td><td>Plato, Desmond Lee</td><td>-380</td></tr>",
                            "<tr><td>Politics</td><td>Aristotle</td><td>-350</td></tr>",
                            "<tr><td>The Nicomachean Ethics</td><td>Aristotle, J.A.K. Thomson, Jonathan Barnes, Hugh Tredennick</td><td>-350</td></tr>",
                            "<tr><td>Poetics</td><td>Aristotle, Malcolm Heath</td><td>-335</td></tr>",
                            "<tr><td>Metaphysics</td><td>Aristotle, Joe Sachs</td><td>-330</td></tr>",
                            "<tr><td>Tao Te Ching</td><td>Lao Tzu, Gia-Fu Feng, Jane English, Chungliang Al Huang, Rowena Pattee Kryder, Toinette Lippe</td><td>-300</td></tr>",
                            "<tr><td>The Aeneid</td><td>Virgil, Robert Fitzgerald</td><td>-17</td></tr>",
                            "</table>"
                        ]
                    }
                }
            ],
            "execution_count": 56
        },
        {
            "cell_type": "markdown",
            "source": [
                "Your Question: What books get the most 5 star ratings? (Would like to be able to divide out from ratings count to see what percentage it is. Maybe next week?)"
            ],
            "metadata": {
                "azdata_cell_guid": "9386ad04-a016-44d4-8c5c-d25a102d47b4"
            },
            "attachments": {}
        },
        {
            "cell_type": "code",
            "source": [
                "-- Add your querry here\n",
                "SELECT TOP 20 title, authors, ratings_5, ratings_count\n",
                "FROM BooksDB.dbo.books\n",
                "ORDER BY ratings_5"
            ],
            "metadata": {
                "azdata_cell_guid": "15f249cf-aad7-468d-92e1-429b2a09f285",
                "language": "sql"
            },
            "outputs": [
                {
                    "output_type": "display_data",
                    "data": {
                        "text/html": "(20 rows affected)"
                    },
                    "metadata": {}
                },
                {
                    "output_type": "display_data",
                    "data": {
                        "text/html": "Total execution time: 00:00:00.088"
                    },
                    "metadata": {}
                },
                {
                    "output_type": "execute_result",
                    "metadata": {},
                    "execution_count": 57,
                    "data": {
                        "application/vnd.dataresource+json": {
                            "schema": {
                                "fields": [
                                    {
                                        "name": "title"
                                    },
                                    {
                                        "name": "authors"
                                    },
                                    {
                                        "name": "ratings_5"
                                    },
                                    {
                                        "name": "ratings_count"
                                    }
                                ]
                            },
                            "data": [
                                {
                                    "0": "The Finkler Question",
                                    "1": "Howard Jacobson",
                                    "2": "754",
                                    "3": "9627"
                                },
                                {
                                    "0": "The Autograph Man",
                                    "1": "Zadie Smith",
                                    "2": "781",
                                    "3": "8317"
                                },
                                {
                                    "0": "Among the Ten Thousand Things",
                                    "1": "Julia Pierpont",
                                    "2": "788",
                                    "3": "8458"
                                },
                                {
                                    "0": "The Red House",
                                    "1": "Mark Haddon",
                                    "2": "849",
                                    "3": "10621"
                                },
                                {
                                    "0": "Tell-All",
                                    "1": "Chuck Palahniuk",
                                    "2": "862",
                                    "3": "9733"
                                },
                                {
                                    "0": "Primates of Park Avenue",
                                    "1": "Wednesday Martin",
                                    "2": "885",
                                    "3": "9210"
                                },
                                {
                                    "0": "The 158-Pound Marriage",
                                    "1": "John Irving",
                                    "2": "1001",
                                    "3": "10532"
                                },
                                {
                                    "0": "Falling Man",
                                    "1": "Don DeLillo, محمدصادق رئیسی",
                                    "2": "1030",
                                    "3": "9081"
                                },
                                {
                                    "0": "Lost",
                                    "1": "Gregory Maguire, Douglas Smith",
                                    "2": "1056",
                                    "3": "12534"
                                },
                                {
                                    "0": "Beautiful You",
                                    "1": "Chuck Palahniuk",
                                    "2": "1076",
                                    "3": "8507"
                                },
                                {
                                    "0": "To Rise Again at a Decent Hour",
                                    "1": "Joshua Ferris",
                                    "2": "1140",
                                    "3": "10270"
                                },
                                {
                                    "0": "Seating Arrangements",
                                    "1": "Maggie Shipstead",
                                    "2": "1142",
                                    "3": "14243"
                                },
                                {
                                    "0": "The Last Days of Dogtown",
                                    "1": "Anita Diamant",
                                    "2": "1175",
                                    "3": "8216"
                                },
                                {
                                    "0": "Rescue",
                                    "1": "Anita Shreve",
                                    "2": "1193",
                                    "3": "10993"
                                },
                                {
                                    "0": "The Abstinence Teacher",
                                    "1": "Tom Perrotta",
                                    "2": "1199",
                                    "3": "13303"
                                },
                                {
                                    "0": "A Wedding in December",
                                    "1": "Anita Shreve",
                                    "2": "1218",
                                    "3": "15869"
                                },
                                {
                                    "0": "That Old Cape Magic",
                                    "1": "Richard Russo, Arthur Morey",
                                    "2": "1225",
                                    "3": "12095"
                                },
                                {
                                    "0": "Big Brother",
                                    "1": "Lionel Shriver",
                                    "2": "1226",
                                    "3": "8795"
                                },
                                {
                                    "0": "The Final Solution",
                                    "1": "Michael Chabon, Jay Ryan",
                                    "2": "1250",
                                    "3": "12466"
                                },
                                {
                                    "0": "The Water-Method Man",
                                    "1": "John Irving",
                                    "2": "1291",
                                    "3": "9725"
                                }
                            ]
                        },
                        "text/html": [
                            "<table>",
                            "<tr><th>title</th><th>authors</th><th>ratings_5</th><th>ratings_count</th></tr>",
                            "<tr><td>The Finkler Question</td><td>Howard Jacobson</td><td>754</td><td>9627</td></tr>",
                            "<tr><td>The Autograph Man</td><td>Zadie Smith</td><td>781</td><td>8317</td></tr>",
                            "<tr><td>Among the Ten Thousand Things</td><td>Julia Pierpont</td><td>788</td><td>8458</td></tr>",
                            "<tr><td>The Red House</td><td>Mark Haddon</td><td>849</td><td>10621</td></tr>",
                            "<tr><td>Tell-All</td><td>Chuck Palahniuk</td><td>862</td><td>9733</td></tr>",
                            "<tr><td>Primates of Park Avenue</td><td>Wednesday Martin</td><td>885</td><td>9210</td></tr>",
                            "<tr><td>The 158-Pound Marriage</td><td>John Irving</td><td>1001</td><td>10532</td></tr>",
                            "<tr><td>Falling Man</td><td>Don DeLillo, محمدصادق رئیسی</td><td>1030</td><td>9081</td></tr>",
                            "<tr><td>Lost</td><td>Gregory Maguire, Douglas Smith</td><td>1056</td><td>12534</td></tr>",
                            "<tr><td>Beautiful You</td><td>Chuck Palahniuk</td><td>1076</td><td>8507</td></tr>",
                            "<tr><td>To Rise Again at a Decent Hour</td><td>Joshua Ferris</td><td>1140</td><td>10270</td></tr>",
                            "<tr><td>Seating Arrangements</td><td>Maggie Shipstead</td><td>1142</td><td>14243</td></tr>",
                            "<tr><td>The Last Days of Dogtown</td><td>Anita Diamant</td><td>1175</td><td>8216</td></tr>",
                            "<tr><td>Rescue</td><td>Anita Shreve</td><td>1193</td><td>10993</td></tr>",
                            "<tr><td>The Abstinence Teacher</td><td>Tom Perrotta</td><td>1199</td><td>13303</td></tr>",
                            "<tr><td>A Wedding in December</td><td>Anita Shreve</td><td>1218</td><td>15869</td></tr>",
                            "<tr><td>That Old Cape Magic</td><td>Richard Russo, Arthur Morey</td><td>1225</td><td>12095</td></tr>",
                            "<tr><td>Big Brother</td><td>Lionel Shriver</td><td>1226</td><td>8795</td></tr>",
                            "<tr><td>The Final Solution</td><td>Michael Chabon, Jay Ryan</td><td>1250</td><td>12466</td></tr>",
                            "<tr><td>The Water-Method Man</td><td>John Irving</td><td>1291</td><td>9725</td></tr>",
                            "</table>"
                        ]
                    }
                }
            ],
            "execution_count": 57
        },
        {
            "cell_type": "markdown",
            "source": [
                "**Some Question Examples:**\n",
                "\n",
                "Write a query that returns the longest title?\n",
                "\n",
                "Which Author has written the most books?  \n",
                "\n",
                "Top  ten books written the year I was born?"
            ],
            "metadata": {
                "azdata_cell_guid": "7160362b-7127-4123-bd1d-95a94ae38a07"
            }
        }
    ]
}